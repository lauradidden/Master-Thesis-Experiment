{
 "cells": [
  {
   "cell_type": "markdown",
   "id": "6af9341a",
   "metadata": {},
   "source": [
    "### Welcome to the LogView Filtering & Additional Visualization Functions Tutorial\n",
    "\n",
    "Welcome! This tutorial will guide you through using the **LogView** framework to filter event logs, and use additional visualization functions to gain insights into that filtering process.\n",
    "\n",
    "### About LogView\n",
    "\n",
    "**LogView** is an existing framework introduced in the following publication:\n",
    "\n",
    "> **Zerbato, F., Franceschetti, M., & Weber, B. (2024)**  \n",
    "> *A Framework to Support the Validation of Process Mining Inquiries*.  \n",
    "> In: *Business Process Management Forum: BPM 2024 Forum, Krakow, Poland, September 1–6, 2024, Proceedings*. Lecture Notes in Business Information Processing (LNBIP), Vol. 526, Springer, pp. 249–266.\n",
    "\n",
    "LogView supports the systematic evaluation of filtering logic and traceability in process mining experiments.\n",
    "\n",
    "### What is New?\n",
    "\n",
    "While LogView itself provides the query engine and lineage tracking, this tutorial introduces a **new set of visualization functions** to make the filtering process more transparent and insightful:\n",
    "\n",
    "- `icicle()`: Visualizes entire filter sequences as a hierarchical structure.\n",
    "- `pie()`: Shows how a specific filter applies across the event log and how it affects various branches."
   ]
  },
  {
   "cell_type": "markdown",
   "id": "e0a7f98d",
   "metadata": {},
   "source": [
    "### Imports & Setup\n",
    "\n",
    "Import all necessary libraries and custom functions:"
   ]
  },
  {
   "cell_type": "code",
   "execution_count": 1,
   "id": "8dbc9d61",
   "metadata": {},
   "outputs": [],
   "source": [
    "import os\n",
    "import zipfile\n",
    "import pandas as pd\n",
    "import pm4py\n",
    "from logview.utils import LogViewBuilder\n",
    "from logview.predicate import *\n",
    "from filter_visualization import icicle, pie\n",
    "from pm4py.objects.log.importer.xes import importer as xes_importer\n",
    "from pm4py.algo.discovery.dfg import algorithm as dfg_discovery\n",
    "from pm4py.visualization.dfg import visualizer as dfg_visualizer"
   ]
  },
  {
   "cell_type": "markdown",
   "id": "5b64a015",
   "metadata": {},
   "source": [
    "### Load and Prepare Event Log\n",
    "\n",
    "Then load your event log and format it for analysis with PM4Py. The code below does this for the BPI Challenge 2017 dataset:\n"
   ]
  },
  {
   "cell_type": "code",
   "execution_count": 2,
   "id": "16478b8b",
   "metadata": {},
   "outputs": [
    {
     "data": {
      "text/html": [
       "<div>\n",
       "<style scoped>\n",
       "    .dataframe tbody tr th:only-of-type {\n",
       "        vertical-align: middle;\n",
       "    }\n",
       "\n",
       "    .dataframe tbody tr th {\n",
       "        vertical-align: top;\n",
       "    }\n",
       "\n",
       "    .dataframe thead th {\n",
       "        text-align: right;\n",
       "    }\n",
       "</style>\n",
       "<table border=\"1\" class=\"dataframe\">\n",
       "  <thead>\n",
       "    <tr style=\"text-align: right;\">\n",
       "      <th></th>\n",
       "      <th>case</th>\n",
       "      <th>event</th>\n",
       "      <th>time</th>\n",
       "      <th>lifecycle:transition</th>\n",
       "      <th>ApplicationType</th>\n",
       "      <th>LoanGoal</th>\n",
       "      <th>RequestedAmount</th>\n",
       "      <th>MonthlyCost</th>\n",
       "      <th>org:resource</th>\n",
       "      <th>Selected</th>\n",
       "      <th>...</th>\n",
       "      <th>Accepted</th>\n",
       "      <th>CreditScore</th>\n",
       "      <th>NumberOfTerms</th>\n",
       "      <th>EventOrigin</th>\n",
       "      <th>OfferedAmount</th>\n",
       "      <th>case:concept:name</th>\n",
       "      <th>concept:name</th>\n",
       "      <th>time:timestamp</th>\n",
       "      <th>@@index</th>\n",
       "      <th>@@case_index</th>\n",
       "    </tr>\n",
       "  </thead>\n",
       "  <tbody>\n",
       "    <tr>\n",
       "      <th>0</th>\n",
       "      <td>Application_1000086665</td>\n",
       "      <td>A_Create Application</td>\n",
       "      <td>2016-08-03 17:57:21.673000+00:00</td>\n",
       "      <td>COMPLETE</td>\n",
       "      <td>New credit</td>\n",
       "      <td>Other, see explanation</td>\n",
       "      <td>5000.0</td>\n",
       "      <td>NaN</td>\n",
       "      <td>User_1</td>\n",
       "      <td>NaN</td>\n",
       "      <td>...</td>\n",
       "      <td>NaN</td>\n",
       "      <td>NaN</td>\n",
       "      <td>NaN</td>\n",
       "      <td>Application</td>\n",
       "      <td>NaN</td>\n",
       "      <td>Application_1000086665</td>\n",
       "      <td>A_Create Application</td>\n",
       "      <td>2016-08-03 17:57:21.673000+00:00</td>\n",
       "      <td>0</td>\n",
       "      <td>0</td>\n",
       "    </tr>\n",
       "    <tr>\n",
       "      <th>1</th>\n",
       "      <td>Application_1000086665</td>\n",
       "      <td>A_Submitted</td>\n",
       "      <td>2016-08-03 17:57:21.734000+00:00</td>\n",
       "      <td>COMPLETE</td>\n",
       "      <td>New credit</td>\n",
       "      <td>Other, see explanation</td>\n",
       "      <td>5000.0</td>\n",
       "      <td>NaN</td>\n",
       "      <td>User_1</td>\n",
       "      <td>NaN</td>\n",
       "      <td>...</td>\n",
       "      <td>NaN</td>\n",
       "      <td>NaN</td>\n",
       "      <td>NaN</td>\n",
       "      <td>Application</td>\n",
       "      <td>NaN</td>\n",
       "      <td>Application_1000086665</td>\n",
       "      <td>A_Submitted</td>\n",
       "      <td>2016-08-03 17:57:21.734000+00:00</td>\n",
       "      <td>1</td>\n",
       "      <td>0</td>\n",
       "    </tr>\n",
       "    <tr>\n",
       "      <th>2</th>\n",
       "      <td>Application_1000086665</td>\n",
       "      <td>W_Handle leads</td>\n",
       "      <td>2016-08-03 17:57:21.963000+00:00</td>\n",
       "      <td>SCHEDULE</td>\n",
       "      <td>New credit</td>\n",
       "      <td>Other, see explanation</td>\n",
       "      <td>5000.0</td>\n",
       "      <td>NaN</td>\n",
       "      <td>User_1</td>\n",
       "      <td>NaN</td>\n",
       "      <td>...</td>\n",
       "      <td>NaN</td>\n",
       "      <td>NaN</td>\n",
       "      <td>NaN</td>\n",
       "      <td>Workflow</td>\n",
       "      <td>NaN</td>\n",
       "      <td>Application_1000086665</td>\n",
       "      <td>W_Handle leads</td>\n",
       "      <td>2016-08-03 17:57:21.963000+00:00</td>\n",
       "      <td>2</td>\n",
       "      <td>0</td>\n",
       "    </tr>\n",
       "    <tr>\n",
       "      <th>3</th>\n",
       "      <td>Application_1000086665</td>\n",
       "      <td>W_Handle leads</td>\n",
       "      <td>2016-08-03 17:58:28.286000+00:00</td>\n",
       "      <td>WITHDRAW</td>\n",
       "      <td>New credit</td>\n",
       "      <td>Other, see explanation</td>\n",
       "      <td>5000.0</td>\n",
       "      <td>NaN</td>\n",
       "      <td>User_1</td>\n",
       "      <td>NaN</td>\n",
       "      <td>...</td>\n",
       "      <td>NaN</td>\n",
       "      <td>NaN</td>\n",
       "      <td>NaN</td>\n",
       "      <td>Workflow</td>\n",
       "      <td>NaN</td>\n",
       "      <td>Application_1000086665</td>\n",
       "      <td>W_Handle leads</td>\n",
       "      <td>2016-08-03 17:58:28.286000+00:00</td>\n",
       "      <td>3</td>\n",
       "      <td>0</td>\n",
       "    </tr>\n",
       "    <tr>\n",
       "      <th>4</th>\n",
       "      <td>Application_1000086665</td>\n",
       "      <td>W_Complete application</td>\n",
       "      <td>2016-08-03 17:58:28.293000+00:00</td>\n",
       "      <td>SCHEDULE</td>\n",
       "      <td>New credit</td>\n",
       "      <td>Other, see explanation</td>\n",
       "      <td>5000.0</td>\n",
       "      <td>NaN</td>\n",
       "      <td>User_1</td>\n",
       "      <td>NaN</td>\n",
       "      <td>...</td>\n",
       "      <td>NaN</td>\n",
       "      <td>NaN</td>\n",
       "      <td>NaN</td>\n",
       "      <td>Workflow</td>\n",
       "      <td>NaN</td>\n",
       "      <td>Application_1000086665</td>\n",
       "      <td>W_Complete application</td>\n",
       "      <td>2016-08-03 17:58:28.293000+00:00</td>\n",
       "      <td>4</td>\n",
       "      <td>0</td>\n",
       "    </tr>\n",
       "    <tr>\n",
       "      <th>...</th>\n",
       "      <td>...</td>\n",
       "      <td>...</td>\n",
       "      <td>...</td>\n",
       "      <td>...</td>\n",
       "      <td>...</td>\n",
       "      <td>...</td>\n",
       "      <td>...</td>\n",
       "      <td>...</td>\n",
       "      <td>...</td>\n",
       "      <td>...</td>\n",
       "      <td>...</td>\n",
       "      <td>...</td>\n",
       "      <td>...</td>\n",
       "      <td>...</td>\n",
       "      <td>...</td>\n",
       "      <td>...</td>\n",
       "      <td>...</td>\n",
       "      <td>...</td>\n",
       "      <td>...</td>\n",
       "      <td>...</td>\n",
       "      <td>...</td>\n",
       "    </tr>\n",
       "    <tr>\n",
       "      <th>1202262</th>\n",
       "      <td>Application_999993812</td>\n",
       "      <td>W_Call incomplete files</td>\n",
       "      <td>2016-10-20 10:19:28.812000+00:00</td>\n",
       "      <td>RESUME</td>\n",
       "      <td>New credit</td>\n",
       "      <td>Caravan / Camper</td>\n",
       "      <td>30000.0</td>\n",
       "      <td>NaN</td>\n",
       "      <td>User_41</td>\n",
       "      <td>NaN</td>\n",
       "      <td>...</td>\n",
       "      <td>NaN</td>\n",
       "      <td>NaN</td>\n",
       "      <td>NaN</td>\n",
       "      <td>Workflow</td>\n",
       "      <td>NaN</td>\n",
       "      <td>Application_999993812</td>\n",
       "      <td>W_Call incomplete files</td>\n",
       "      <td>2016-10-20 10:19:28.812000+00:00</td>\n",
       "      <td>1202262</td>\n",
       "      <td>31508</td>\n",
       "    </tr>\n",
       "    <tr>\n",
       "      <th>1202263</th>\n",
       "      <td>Application_999993812</td>\n",
       "      <td>W_Call incomplete files</td>\n",
       "      <td>2016-10-20 10:21:59.667000+00:00</td>\n",
       "      <td>SUSPEND</td>\n",
       "      <td>New credit</td>\n",
       "      <td>Caravan / Camper</td>\n",
       "      <td>30000.0</td>\n",
       "      <td>NaN</td>\n",
       "      <td>User_41</td>\n",
       "      <td>NaN</td>\n",
       "      <td>...</td>\n",
       "      <td>NaN</td>\n",
       "      <td>NaN</td>\n",
       "      <td>NaN</td>\n",
       "      <td>Workflow</td>\n",
       "      <td>NaN</td>\n",
       "      <td>Application_999993812</td>\n",
       "      <td>W_Call incomplete files</td>\n",
       "      <td>2016-10-20 10:21:59.667000+00:00</td>\n",
       "      <td>1202263</td>\n",
       "      <td>31508</td>\n",
       "    </tr>\n",
       "    <tr>\n",
       "      <th>1202264</th>\n",
       "      <td>Application_999993812</td>\n",
       "      <td>O_Accepted</td>\n",
       "      <td>2016-10-24 08:24:30.056000+00:00</td>\n",
       "      <td>COMPLETE</td>\n",
       "      <td>New credit</td>\n",
       "      <td>Caravan / Camper</td>\n",
       "      <td>30000.0</td>\n",
       "      <td>NaN</td>\n",
       "      <td>User_68</td>\n",
       "      <td>NaN</td>\n",
       "      <td>...</td>\n",
       "      <td>NaN</td>\n",
       "      <td>NaN</td>\n",
       "      <td>NaN</td>\n",
       "      <td>Offer</td>\n",
       "      <td>NaN</td>\n",
       "      <td>Application_999993812</td>\n",
       "      <td>O_Accepted</td>\n",
       "      <td>2016-10-24 08:24:30.056000+00:00</td>\n",
       "      <td>1202264</td>\n",
       "      <td>31508</td>\n",
       "    </tr>\n",
       "    <tr>\n",
       "      <th>1202265</th>\n",
       "      <td>Application_999993812</td>\n",
       "      <td>A_Pending</td>\n",
       "      <td>2016-10-24 08:24:30.059000+00:00</td>\n",
       "      <td>COMPLETE</td>\n",
       "      <td>New credit</td>\n",
       "      <td>Caravan / Camper</td>\n",
       "      <td>30000.0</td>\n",
       "      <td>NaN</td>\n",
       "      <td>User_68</td>\n",
       "      <td>NaN</td>\n",
       "      <td>...</td>\n",
       "      <td>NaN</td>\n",
       "      <td>NaN</td>\n",
       "      <td>NaN</td>\n",
       "      <td>Application</td>\n",
       "      <td>NaN</td>\n",
       "      <td>Application_999993812</td>\n",
       "      <td>A_Pending</td>\n",
       "      <td>2016-10-24 08:24:30.059000+00:00</td>\n",
       "      <td>1202265</td>\n",
       "      <td>31508</td>\n",
       "    </tr>\n",
       "    <tr>\n",
       "      <th>1202266</th>\n",
       "      <td>Application_999993812</td>\n",
       "      <td>W_Call incomplete files</td>\n",
       "      <td>2016-10-24 08:24:30.061000+00:00</td>\n",
       "      <td>ATE_ABORT</td>\n",
       "      <td>New credit</td>\n",
       "      <td>Caravan / Camper</td>\n",
       "      <td>30000.0</td>\n",
       "      <td>NaN</td>\n",
       "      <td>User_68</td>\n",
       "      <td>NaN</td>\n",
       "      <td>...</td>\n",
       "      <td>NaN</td>\n",
       "      <td>NaN</td>\n",
       "      <td>NaN</td>\n",
       "      <td>Workflow</td>\n",
       "      <td>NaN</td>\n",
       "      <td>Application_999993812</td>\n",
       "      <td>W_Call incomplete files</td>\n",
       "      <td>2016-10-24 08:24:30.061000+00:00</td>\n",
       "      <td>1202266</td>\n",
       "      <td>31508</td>\n",
       "    </tr>\n",
       "  </tbody>\n",
       "</table>\n",
       "<p>1202267 rows × 24 columns</p>\n",
       "</div>"
      ],
      "text/plain": [
       "                           case                    event  \\\n",
       "0        Application_1000086665     A_Create Application   \n",
       "1        Application_1000086665              A_Submitted   \n",
       "2        Application_1000086665           W_Handle leads   \n",
       "3        Application_1000086665           W_Handle leads   \n",
       "4        Application_1000086665   W_Complete application   \n",
       "...                         ...                      ...   \n",
       "1202262   Application_999993812  W_Call incomplete files   \n",
       "1202263   Application_999993812  W_Call incomplete files   \n",
       "1202264   Application_999993812               O_Accepted   \n",
       "1202265   Application_999993812                A_Pending   \n",
       "1202266   Application_999993812  W_Call incomplete files   \n",
       "\n",
       "                                    time lifecycle:transition ApplicationType  \\\n",
       "0       2016-08-03 17:57:21.673000+00:00             COMPLETE      New credit   \n",
       "1       2016-08-03 17:57:21.734000+00:00             COMPLETE      New credit   \n",
       "2       2016-08-03 17:57:21.963000+00:00             SCHEDULE      New credit   \n",
       "3       2016-08-03 17:58:28.286000+00:00             WITHDRAW      New credit   \n",
       "4       2016-08-03 17:58:28.293000+00:00             SCHEDULE      New credit   \n",
       "...                                  ...                  ...             ...   \n",
       "1202262 2016-10-20 10:19:28.812000+00:00               RESUME      New credit   \n",
       "1202263 2016-10-20 10:21:59.667000+00:00              SUSPEND      New credit   \n",
       "1202264 2016-10-24 08:24:30.056000+00:00             COMPLETE      New credit   \n",
       "1202265 2016-10-24 08:24:30.059000+00:00             COMPLETE      New credit   \n",
       "1202266 2016-10-24 08:24:30.061000+00:00            ATE_ABORT      New credit   \n",
       "\n",
       "                       LoanGoal  RequestedAmount  MonthlyCost org:resource  \\\n",
       "0        Other, see explanation           5000.0          NaN       User_1   \n",
       "1        Other, see explanation           5000.0          NaN       User_1   \n",
       "2        Other, see explanation           5000.0          NaN       User_1   \n",
       "3        Other, see explanation           5000.0          NaN       User_1   \n",
       "4        Other, see explanation           5000.0          NaN       User_1   \n",
       "...                         ...              ...          ...          ...   \n",
       "1202262        Caravan / Camper          30000.0          NaN      User_41   \n",
       "1202263        Caravan / Camper          30000.0          NaN      User_41   \n",
       "1202264        Caravan / Camper          30000.0          NaN      User_68   \n",
       "1202265        Caravan / Camper          30000.0          NaN      User_68   \n",
       "1202266        Caravan / Camper          30000.0          NaN      User_68   \n",
       "\n",
       "        Selected  ... Accepted CreditScore  NumberOfTerms  EventOrigin  \\\n",
       "0            NaN  ...      NaN         NaN            NaN  Application   \n",
       "1            NaN  ...      NaN         NaN            NaN  Application   \n",
       "2            NaN  ...      NaN         NaN            NaN     Workflow   \n",
       "3            NaN  ...      NaN         NaN            NaN     Workflow   \n",
       "4            NaN  ...      NaN         NaN            NaN     Workflow   \n",
       "...          ...  ...      ...         ...            ...          ...   \n",
       "1202262      NaN  ...      NaN         NaN            NaN     Workflow   \n",
       "1202263      NaN  ...      NaN         NaN            NaN     Workflow   \n",
       "1202264      NaN  ...      NaN         NaN            NaN        Offer   \n",
       "1202265      NaN  ...      NaN         NaN            NaN  Application   \n",
       "1202266      NaN  ...      NaN         NaN            NaN     Workflow   \n",
       "\n",
       "        OfferedAmount       case:concept:name             concept:name  \\\n",
       "0                 NaN  Application_1000086665     A_Create Application   \n",
       "1                 NaN  Application_1000086665              A_Submitted   \n",
       "2                 NaN  Application_1000086665           W_Handle leads   \n",
       "3                 NaN  Application_1000086665           W_Handle leads   \n",
       "4                 NaN  Application_1000086665   W_Complete application   \n",
       "...               ...                     ...                      ...   \n",
       "1202262           NaN   Application_999993812  W_Call incomplete files   \n",
       "1202263           NaN   Application_999993812  W_Call incomplete files   \n",
       "1202264           NaN   Application_999993812               O_Accepted   \n",
       "1202265           NaN   Application_999993812                A_Pending   \n",
       "1202266           NaN   Application_999993812  W_Call incomplete files   \n",
       "\n",
       "                          time:timestamp  @@index @@case_index  \n",
       "0       2016-08-03 17:57:21.673000+00:00        0            0  \n",
       "1       2016-08-03 17:57:21.734000+00:00        1            0  \n",
       "2       2016-08-03 17:57:21.963000+00:00        2            0  \n",
       "3       2016-08-03 17:58:28.286000+00:00        3            0  \n",
       "4       2016-08-03 17:58:28.293000+00:00        4            0  \n",
       "...                                  ...      ...          ...  \n",
       "1202262 2016-10-20 10:19:28.812000+00:00  1202262        31508  \n",
       "1202263 2016-10-20 10:21:59.667000+00:00  1202263        31508  \n",
       "1202264 2016-10-24 08:24:30.056000+00:00  1202264        31508  \n",
       "1202265 2016-10-24 08:24:30.059000+00:00  1202265        31508  \n",
       "1202266 2016-10-24 08:24:30.061000+00:00  1202266        31508  \n",
       "\n",
       "[1202267 rows x 24 columns]"
      ]
     },
     "metadata": {},
     "output_type": "display_data"
    }
   ],
   "source": [
    "# Load data\n",
    "\n",
    "csv_file = \"BPI_Challenge_2017.csv\"\n",
    "zip_file = \"BPI_Challenge_2017.zip\"\n",
    "\n",
    "if not os.path.exists(csv_file):\n",
    "    if os.path.exists(zip_file):\n",
    "        print(f\"Extracting {csv_file} from {zip_file}...\")\n",
    "        with zipfile.ZipFile(zip_file, 'r') as zip_ref:\n",
    "            zip_ref.extract(csv_file)\n",
    "    else:\n",
    "        raise FileNotFoundError(f\"Both '{csv_file}' and '{zip_file}' not found\")\n",
    "\n",
    "bpi_data = pd.read_csv(csv_file, sep=',', quotechar='\"')\n",
    "bpi_data.columns = bpi_data.columns.str.strip()\n",
    "bpi_data['time'] = pd.to_datetime(bpi_data['time'], format='%Y/%m/%d %H:%M:%S.%f')\n",
    "log = pm4py.format_dataframe(bpi_data, case_id='case', activity_key='event', timestamp_key='time')\n",
    "\n",
    "display(log)"
   ]
  },
  {
   "cell_type": "code",
   "execution_count": null,
   "id": "aca044f7",
   "metadata": {},
   "outputs": [],
   "source": [
    "# Visualize the DFG\n",
    "dfg = dfg_discovery.apply(log)\n",
    "gviz = dfg_visualizer.apply(dfg, log=log, variant=dfg_visualizer.Variants.FREQUENCY)\n",
    "dfg_visualizer.view(gviz)"
   ]
  },
  {
   "cell_type": "markdown",
   "id": "5e7514bc",
   "metadata": {},
   "source": [
    "### Instantiating a LogView object ###\n",
    "The LogViewBuilder class allows instantiating a LogView object, which serves as the central interface for creating LogView instances. It provides a single point of access for interacting with the different framework components."
   ]
  },
  {
   "cell_type": "code",
   "execution_count": null,
   "id": "73a71990",
   "metadata": {},
   "outputs": [],
   "source": [
    "# Build LogView\n",
    "log_view = LogViewBuilder.build_log_view(log)"
   ]
  },
  {
   "cell_type": "markdown",
   "id": "67735d11",
   "metadata": {},
   "source": [
    "### Evaluate Queries ###\n",
    "\n",
    "In **LogView**, a _query_ is a combination (conjunction) of one or more predicates, which are similar to case filters. \n",
    "Predicates allow you to retrieve cases from the log that meet the conditions specified by the predicate. For example, a predicate such as 'amount ≤ 100' sets a condition on the values of the 'amount' attribute within the case.\n",
    "\n",
    "### Query Predicates ###\n",
    "The following predicates are currently supported in LogView.\n",
    "\n",
    "**Filter on attribute values:**\n",
    "- `EqToConstant`: Keeps cases that contain at least an event with the given attribute equal to a constant value.\n",
    "- `NotEqToConstant`: Keeps cases that do not contain any event with the given attribute equal to a constant value.\n",
    "- `GreaterEqualToConstant`: Keeps cases that contain at least an event with the given attribute greater than or equal to a constant value.\n",
    "- `GreaterThanConstant`: Keeps cases that contain at least an event with the given attribute greater than a constant value.\n",
    "- `LessEqualToConstant`: Keeps cases that contain at least an event with the given attribute lower than or equal to a constant value.\n",
    "- `LessThanConstant`: Keeps cases that contain at least an event with the given attribute lower than a constant value.\n",
    "- `StartWith`: Keeps cases starting with the specified activities.\n",
    "- `EndWith`: Keeps cases ending with a given activity.\n",
    "- `DurationWithin`: Keeps cases with durations within a specified range in seconds.\n",
    "\n",
    "**Union**\n",
    "- `Union`: represents a logical OR operation between multiple predicates. \n",
    "\n",
    "Examples: \n",
    "\n",
    "- `EndWith(['Send Fine', 'Appeal to Judge'])` retrieves all the cases that end with activity 'Send Fine' or 'Appeal to Judge'.\n",
    "- `LessEqualToConstant('amount', '100')` retrieves all the cases where there is at least an event with attribute amount ≤ 100."
   ]
  },
  {
   "cell_type": "code",
   "execution_count": null,
   "id": "c72a0653",
   "metadata": {},
   "outputs": [],
   "source": [
    "# CreditScore ≥ 600\n",
    "query_1 = Query('GoodCredit', [GreaterEqualToConstant('CreditScore', 600)])\n",
    "result_set_1, complement_1 = log_view.evaluate_query('rs_GoodCredit', log, query_1)\n",
    "\n",
    "# RequestedAmount ≥ 10000\n",
    "query_2 = Query('LoanOverThreshold', [GreaterEqualToConstant('RequestedAmount', 10000)])\n",
    "result_set_2, complement_2 = log_view.evaluate_query('rs_LoanOverThreshold', result_set_1, query_2)\n",
    "\n",
    "# RequestedAmount < 15000\n",
    "query_3 = Query('SmallAmount', [LessThanConstant('RequestedAmount', 15000)])\n",
    "result_set_3, complement_3 = log_view.evaluate_query('rs_SmallAmount', result_set_2, query_3)\n",
    "\n",
    "# ApplicationType = 'New credit'\n",
    "query_4 = Query('IsNewCredit', [EqToConstant('ApplicationType', 'New credit')])\n",
    "result_set_4, complement_4 = log_view.evaluate_query('rs_IsNewCredit', result_set_3, query_4)"
   ]
  },
  {
   "cell_type": "code",
   "execution_count": null,
   "id": "bbb6af09",
   "metadata": {},
   "outputs": [],
   "source": [
    "# It is possible to start another analysis on the source log, this wil also be added to the same LogView object, but can be used seperately later on:\n",
    "\n",
    "# Starts with A_Create Application\n",
    "query_5 = Query('StartWithCreate', [StartWith(['A_Create Application'])])\n",
    "result_set_5, complement_5 = log_view.evaluate_query('rs_StartWithCreate', log, query_5)\n",
    "\n",
    "# Duration between 2 and 7 days\n",
    "query_6 = Query('ModerateDuration', [DurationWithin(172800, 604800)])\n",
    "result_set_6, complement_6 = log_view.evaluate_query('rs_ModerateDuration', result_set_5, query_6)"
   ]
  },
  {
   "cell_type": "markdown",
   "id": "0ca6f1ab",
   "metadata": {},
   "source": [
    "### General Form ##\n",
    "\n",
    "```python\n",
    "query_name = Query('QueryLabel', [ConditionFunction(field, value)])\n",
    "result_set, complement = log_view.evaluate_query('ResultSetName', input_log, query_name)\n"
   ]
  },
  {
   "cell_type": "code",
   "execution_count": null,
   "id": "fbad0080",
   "metadata": {},
   "outputs": [],
   "source": [
    "# Practice writing your own Query:\n"
   ]
  },
  {
   "cell_type": "markdown",
   "id": "add7ff84",
   "metadata": {},
   "source": [
    "### View the Registry ###\n",
    "The **Registry** is the backbone of the framework, allowing users to record queries made during analysis, along with their evaluations by the **Query Evaluator**.\\\n",
    "The registry also facilitates access to all recorded information.\n",
    "\n",
    "The user can access the registry at any time during the analysis using the following method.\n",
    "\n",
    "In the summary view, each applied query is listed along with:\n",
    "\n",
    "- The **source log** it was applied to\n",
    "- The **result set** it produced\n",
    "\n",
    "This creates a clear **lineage**: Every result set is derived from a parent log, which may itself be the output of a previous query. This chain continues recursively, all the way back to the **original source log** provided when creating the `log_view` object."
   ]
  },
  {
   "cell_type": "code",
   "execution_count": null,
   "id": "c4f6ea50",
   "metadata": {},
   "outputs": [
    {
     "name": "stdout",
     "output_type": "stream",
     "text": [
      "+----+----------------------+-------------------+----------------------+----------+\n",
      "|    | source_log           | query             | result_set           | labels   |\n",
      "|----+----------------------+-------------------+----------------------+----------|\n",
      "|  0 | initial_source_log   | GoodCredit        | rs_GoodCredit        | []       |\n",
      "|  1 | rs_GoodCredit        | LoanOverThreshold | rs_LoanOverThreshold | []       |\n",
      "|  2 | rs_LoanOverThreshold | SmallAmount       | rs_SmallAmount       | []       |\n",
      "|  3 | rs_SmallAmount       | IsNewCredit       | rs_IsNewCredit       | []       |\n",
      "|  4 | initial_source_log   | StartWithCreate   | rs_StartWithCreate   | []       |\n",
      "|  5 | rs_StartWithCreate   | ModerateDuration  | rs_ModerateDuration  | []       |\n",
      "+----+----------------------+-------------------+----------------------+----------+\n",
      "+----+-------------------+----------------------------------------+\n",
      "|    | query             | predicates                             |\n",
      "|----+-------------------+----------------------------------------|\n",
      "|  0 | GoodCredit        | (CreditScore >= 600)                   |\n",
      "|  1 | LoanOverThreshold | (RequestedAmount >= 10000)             |\n",
      "|  2 | SmallAmount       | (RequestedAmount < 15000)              |\n",
      "|  3 | IsNewCredit       | (ApplicationType in { 'New credit' })  |\n",
      "|  4 | StartWithCreate   | (StartWith { 'A_Create Application' }) |\n",
      "|  5 | ModerateDuration  | (DurationWithin [172800, 604800])      |\n",
      "+----+-------------------+----------------------------------------+\n"
     ]
    }
   ],
   "source": [
    "summary = log_view.get_summary()"
   ]
  },
  {
   "cell_type": "code",
   "execution_count": null,
   "id": "4888418f",
   "metadata": {},
   "outputs": [],
   "source": [
    "# Visualize the DFG after the first four filters\n",
    "dfg = dfg_discovery.apply(result_set_4)\n",
    "gviz = dfg_visualizer.apply(dfg, log=log, variant=dfg_visualizer.Variants.FREQUENCY)\n",
    "dfg_visualizer.view(gviz)"
   ]
  },
  {
   "cell_type": "markdown",
   "id": "070d210f",
   "metadata": {},
   "source": [
    "### The `icicle()` Function ###\n",
    "\n",
    "The `icicle()` function visualizes how a specific result set was derived from a sequence of filters applied to the event log. It builds an **icicle chart** that shows the hierarchical filtering steps and metrics for each resulting subset.\n",
    "\n",
    "Function Signature:\n",
    "```python\n",
    "icicle(result_set_name, log_view, metric=\"avg_case_duration_seconds\", show_time=False, details=True)"
   ]
  },
  {
   "cell_type": "markdown",
   "id": "450002c0",
   "metadata": {},
   "source": [
    "### `icicle()` Function Parameters\n",
    "\n",
    "| Parameter         | Type      | Description                                                                                                                                                                  |\n",
    "|------------------|-----------|------------------------------------------------------------------------------------------------------------------------------------------------------------------------------|\n",
    "| `result_set_name`| `str`     | The name of the result set you want to visualize. This must match the name used when calling `log_view.evaluate_query(...)`. Any name in the list of \"result_set\" names can be used to call the function. |\n",
    "| `log_view`       | `LogView` | A `LogView` object that stores the original event log along with all filtering steps applied. Created using `LogViewBuilder.build_log_view(log)`.                           |\n",
    "| `metric`         | `str`     | The metric to visualize in the chart. Supported options:<br> • `\"avg_case_duration_seconds\"` (default)<br> • `\"avg_events_per_case\"`<br> • `\"avg_time_between_events\"`      |\n",
    "| `show_time`      | `bool`    | If `True`, prints the time taken for each internal step (lineage extraction, filtering, plotting). Default is `False`.                                                      |\n",
    "| `details`        | `bool`    | If `True` (default), prints a summary showing all filter steps, number of cases per subset, and computed metric values.                                                     |\n"
   ]
  },
  {
   "cell_type": "markdown",
   "id": "dab4867b",
   "metadata": {},
   "source": [
    "Intended Use:\n",
    "- Get a visual understanding of how filters affect your dataset.\n",
    "- Identify which branches of the filtering tree are interesting or potentially problematic.\n",
    "- Validate your filtering logic and observe how metrics change across subsets.\n",
    "- Clearly communicate your data preparation and filtering steps.\n",
    "\n",
    "The icicle chart highlights the **main filtering path** (the sequence of subsets that passed each filter step) with **yellow dots 🟡**.  \n",
    "When you **click on a subset** in the chart, it zooms in to show a more detailed view, allowing for easier comparison between branches."
   ]
  },
  {
   "cell_type": "code",
   "execution_count": null,
   "id": "cd8a1cec",
   "metadata": {},
   "outputs": [
    {
     "data": {
      "application/vnd.plotly.v1+json": {
       "config": {
        "plotlyServerURL": "https://plot.ly"
       },
       "data": [
        {
         "branchvalues": "total",
         "customdata": [
          [
           "2,461",
           "17d 22h 15m",
           1548906.6960499797
          ],
          [
           "68",
           "13d 13h 20m",
           1171227.5577794116
          ],
          [
           "7,288",
           "20d 7h 27m",
           1754820.054518661
          ],
          [
           "267",
           "14d 9h 54m",
           1245294.6614569288
          ],
          [
           "4,976",
           "17d 0h 53m",
           1472005.5306099278
          ],
          [
           "178",
           "12d 16h 54m",
           1097685.6758820226
          ],
          [
           "2,158",
           "26d 13h 14m",
           2294083.190828545
          ],
          [
           "351",
           "17d 6h 8m",
           1490904.550173789
          ],
          [
           "5,845",
           "27d 2h 10m",
           2340603.5806398634
          ],
          [
           "1,666",
           "17d 22h 3m",
           1548216.6580696278
          ],
          [
           "5,392",
           "25d 19h 38m",
           2230739.8455984793
          ],
          [
           "859",
           "17d 19h 32m",
           1539129.5727240979
          ],
          [
           "(?)",
           "(?)",
           1538751.6223440096
          ],
          [
           "(?)",
           "(?)",
           1736813.002242356
          ],
          [
           "(?)",
           "(?)",
           1459077.914362049
          ],
          [
           "(?)",
           "(?)",
           2181721.4120840975
          ],
          [
           "(?)",
           "(?)",
           2164845.8103027563
          ],
          [
           "(?)",
           "(?)",
           2135700.136048152
          ],
          [
           "(?)",
           "(?)",
           1687140.528049286
          ],
          [
           "(?)",
           "(?)",
           1459077.914362049
          ],
          [
           "(?)",
           "(?)",
           2169071.4475152697
          ],
          [
           "(?)",
           "(?)",
           2135700.136048152
          ],
          [
           "(?)",
           "(?)",
           1610002.1430286784
          ],
          [
           "(?)",
           "(?)",
           2156250.842267839
          ],
          [
           "(?)",
           "(?)",
           1892080.6788540103
          ]
         ],
         "domain": {
          "x": [
           0,
           1
          ],
          "y": [
           0,
           1
          ]
         },
         "hoverinfo": "skip",
         "ids": [
          "🟡 Initial Source/🟡 (CreditScore >= 600) ✔/🟡 (RequestedAmount >= 10000) ✔/🟡 (RequestedAmount < 15000) ✔/🟡 (ApplicationType in { 'New credit' }) ✔",
          "🟡 Initial Source/🟡 (CreditScore >= 600) ✔/🟡 (RequestedAmount >= 10000) ✔/🟡 (RequestedAmount < 15000) ✔/(ApplicationType in { 'New credit' }) ✘",
          "🟡 Initial Source/🟡 (CreditScore >= 600) ✔/🟡 (RequestedAmount >= 10000) ✔/(RequestedAmount < 15000) ✘/(ApplicationType in { 'New credit' }) ✔",
          "🟡 Initial Source/🟡 (CreditScore >= 600) ✔/🟡 (RequestedAmount >= 10000) ✔/(RequestedAmount < 15000) ✘/(ApplicationType in { 'New credit' }) ✘",
          "🟡 Initial Source/🟡 (CreditScore >= 600) ✔/(RequestedAmount >= 10000) ✘/(RequestedAmount < 15000) ✔/(ApplicationType in { 'New credit' }) ✔",
          "🟡 Initial Source/🟡 (CreditScore >= 600) ✔/(RequestedAmount >= 10000) ✘/(RequestedAmount < 15000) ✔/(ApplicationType in { 'New credit' }) ✘",
          "🟡 Initial Source/(CreditScore >= 600) ✘/(RequestedAmount >= 10000) ✔/(RequestedAmount < 15000) ✔/(ApplicationType in { 'New credit' }) ✔",
          "🟡 Initial Source/(CreditScore >= 600) ✘/(RequestedAmount >= 10000) ✔/(RequestedAmount < 15000) ✔/(ApplicationType in { 'New credit' }) ✘",
          "🟡 Initial Source/(CreditScore >= 600) ✘/(RequestedAmount >= 10000) ✔/(RequestedAmount < 15000) ✘/(ApplicationType in { 'New credit' }) ✔",
          "🟡 Initial Source/(CreditScore >= 600) ✘/(RequestedAmount >= 10000) ✔/(RequestedAmount < 15000) ✘/(ApplicationType in { 'New credit' }) ✘",
          "🟡 Initial Source/(CreditScore >= 600) ✘/(RequestedAmount >= 10000) ✘/(RequestedAmount < 15000) ✔/(ApplicationType in { 'New credit' }) ✔",
          "🟡 Initial Source/(CreditScore >= 600) ✘/(RequestedAmount >= 10000) ✘/(RequestedAmount < 15000) ✔/(ApplicationType in { 'New credit' }) ✘",
          "🟡 Initial Source/🟡 (CreditScore >= 600) ✔/🟡 (RequestedAmount >= 10000) ✔/🟡 (RequestedAmount < 15000) ✔",
          "🟡 Initial Source/🟡 (CreditScore >= 600) ✔/🟡 (RequestedAmount >= 10000) ✔/(RequestedAmount < 15000) ✘",
          "🟡 Initial Source/🟡 (CreditScore >= 600) ✔/(RequestedAmount >= 10000) ✘/(RequestedAmount < 15000) ✔",
          "🟡 Initial Source/(CreditScore >= 600) ✘/(RequestedAmount >= 10000) ✔/(RequestedAmount < 15000) ✔",
          "🟡 Initial Source/(CreditScore >= 600) ✘/(RequestedAmount >= 10000) ✔/(RequestedAmount < 15000) ✘",
          "🟡 Initial Source/(CreditScore >= 600) ✘/(RequestedAmount >= 10000) ✘/(RequestedAmount < 15000) ✔",
          "🟡 Initial Source/🟡 (CreditScore >= 600) ✔/🟡 (RequestedAmount >= 10000) ✔",
          "🟡 Initial Source/🟡 (CreditScore >= 600) ✔/(RequestedAmount >= 10000) ✘",
          "🟡 Initial Source/(CreditScore >= 600) ✘/(RequestedAmount >= 10000) ✔",
          "🟡 Initial Source/(CreditScore >= 600) ✘/(RequestedAmount >= 10000) ✘",
          "🟡 Initial Source/🟡 (CreditScore >= 600) ✔",
          "🟡 Initial Source/(CreditScore >= 600) ✘",
          "🟡 Initial Source"
         ],
         "labels": [
          "🟡 (ApplicationType in { 'New credit' }) ✔",
          "(ApplicationType in { 'New credit' }) ✘",
          "(ApplicationType in { 'New credit' }) ✔",
          "(ApplicationType in { 'New credit' }) ✘",
          "(ApplicationType in { 'New credit' }) ✔",
          "(ApplicationType in { 'New credit' }) ✘",
          "(ApplicationType in { 'New credit' }) ✔",
          "(ApplicationType in { 'New credit' }) ✘",
          "(ApplicationType in { 'New credit' }) ✔",
          "(ApplicationType in { 'New credit' }) ✘",
          "(ApplicationType in { 'New credit' }) ✔",
          "(ApplicationType in { 'New credit' }) ✘",
          "🟡 (RequestedAmount < 15000) ✔",
          "(RequestedAmount < 15000) ✘",
          "(RequestedAmount < 15000) ✔",
          "(RequestedAmount < 15000) ✔",
          "(RequestedAmount < 15000) ✘",
          "(RequestedAmount < 15000) ✔",
          "🟡 (RequestedAmount >= 10000) ✔",
          "(RequestedAmount >= 10000) ✘",
          "(RequestedAmount >= 10000) ✔",
          "(RequestedAmount >= 10000) ✘",
          "🟡 (CreditScore >= 600) ✔",
          "(CreditScore >= 600) ✘",
          "🟡 Initial Source"
         ],
         "marker": {
          "coloraxis": "coloraxis",
          "colors": {
           "bdata": "21QwsmqiN0GrocqOG98xQVrv9A3ExjpBxT1VqW4AM0FfDdaHBXY2Qa+aBq3VvzBB3BFtmKGAQUF/MNiM2L82QTRoUsp920FBSkB3qLifN0Erkjzs6QRBQeYLnpI5fDdB4O9Rn796N0F+9JIAbYA6QZmhE+qFQzZB9Su/tCylQEEvALjnNoRAQZ4GahFKS0BB7jwuh2S+OUGZoRPqhUM2QSwuSLl3jEBBngZqEUpLQEEIh50kEpE4Qbtuz2ttc0BBXWDJrfDePEE=",
           "dtype": "f8"
          }
         },
         "name": "",
         "parents": [
          "🟡 Initial Source/🟡 (CreditScore >= 600) ✔/🟡 (RequestedAmount >= 10000) ✔/🟡 (RequestedAmount < 15000) ✔",
          "🟡 Initial Source/🟡 (CreditScore >= 600) ✔/🟡 (RequestedAmount >= 10000) ✔/🟡 (RequestedAmount < 15000) ✔",
          "🟡 Initial Source/🟡 (CreditScore >= 600) ✔/🟡 (RequestedAmount >= 10000) ✔/(RequestedAmount < 15000) ✘",
          "🟡 Initial Source/🟡 (CreditScore >= 600) ✔/🟡 (RequestedAmount >= 10000) ✔/(RequestedAmount < 15000) ✘",
          "🟡 Initial Source/🟡 (CreditScore >= 600) ✔/(RequestedAmount >= 10000) ✘/(RequestedAmount < 15000) ✔",
          "🟡 Initial Source/🟡 (CreditScore >= 600) ✔/(RequestedAmount >= 10000) ✘/(RequestedAmount < 15000) ✔",
          "🟡 Initial Source/(CreditScore >= 600) ✘/(RequestedAmount >= 10000) ✔/(RequestedAmount < 15000) ✔",
          "🟡 Initial Source/(CreditScore >= 600) ✘/(RequestedAmount >= 10000) ✔/(RequestedAmount < 15000) ✔",
          "🟡 Initial Source/(CreditScore >= 600) ✘/(RequestedAmount >= 10000) ✔/(RequestedAmount < 15000) ✘",
          "🟡 Initial Source/(CreditScore >= 600) ✘/(RequestedAmount >= 10000) ✔/(RequestedAmount < 15000) ✘",
          "🟡 Initial Source/(CreditScore >= 600) ✘/(RequestedAmount >= 10000) ✘/(RequestedAmount < 15000) ✔",
          "🟡 Initial Source/(CreditScore >= 600) ✘/(RequestedAmount >= 10000) ✘/(RequestedAmount < 15000) ✔",
          "🟡 Initial Source/🟡 (CreditScore >= 600) ✔/🟡 (RequestedAmount >= 10000) ✔",
          "🟡 Initial Source/🟡 (CreditScore >= 600) ✔/🟡 (RequestedAmount >= 10000) ✔",
          "🟡 Initial Source/🟡 (CreditScore >= 600) ✔/(RequestedAmount >= 10000) ✘",
          "🟡 Initial Source/(CreditScore >= 600) ✘/(RequestedAmount >= 10000) ✔",
          "🟡 Initial Source/(CreditScore >= 600) ✘/(RequestedAmount >= 10000) ✔",
          "🟡 Initial Source/(CreditScore >= 600) ✘/(RequestedAmount >= 10000) ✘",
          "🟡 Initial Source/🟡 (CreditScore >= 600) ✔",
          "🟡 Initial Source/🟡 (CreditScore >= 600) ✔",
          "🟡 Initial Source/(CreditScore >= 600) ✘",
          "🟡 Initial Source/(CreditScore >= 600) ✘",
          "🟡 Initial Source",
          "🟡 Initial Source",
          ""
         ],
         "type": "icicle",
         "values": {
          "bdata": "AAAAAAA6o0AAAAAAAABRQAAAAAAAeLxAAAAAAACwcEAAAAAAAHCzQAAAAAAAQGZAAAAAAADcoEAAAAAAAPB1QAAAAAAA1bZAAAAAAAAImkAAAAAAABC1QAAAAAAA2IpAAAAAAADCo0AAAAAAAIO9QAAAAAAAIrRAAAAAAACao0AAAAAAAFe9QAAAAAAAa7hAAAAAAACyw0AAAAAAACK0QAAAAAAAksNAAAAAAABruEAAAAAAAMPNQAAAAACAx89AAAAAAEDF3kA=",
          "dtype": "f8"
         }
        }
       ],
       "layout": {
        "coloraxis": {
         "colorbar": {
          "title": {
           "text": "Avg Case Duration (s)"
          }
         },
         "colorscale": [
          [
           0,
           "rgb(247,251,255)"
          ],
          [
           0.125,
           "rgb(222,235,247)"
          ],
          [
           0.25,
           "rgb(198,219,239)"
          ],
          [
           0.375,
           "rgb(158,202,225)"
          ],
          [
           0.5,
           "rgb(107,174,214)"
          ],
          [
           0.625,
           "rgb(66,146,198)"
          ],
          [
           0.75,
           "rgb(33,113,181)"
          ],
          [
           0.875,
           "rgb(8,81,156)"
          ],
          [
           1,
           "rgb(8,48,107)"
          ]
         ]
        },
        "legend": {
         "tracegroupgap": 0
        },
        "margin": {
         "b": 0,
         "l": 0,
         "r": 0,
         "t": 40
        },
        "template": {
         "data": {
          "bar": [
           {
            "error_x": {
             "color": "#2a3f5f"
            },
            "error_y": {
             "color": "#2a3f5f"
            },
            "marker": {
             "line": {
              "color": "#E5ECF6",
              "width": 0.5
             },
             "pattern": {
              "fillmode": "overlay",
              "size": 10,
              "solidity": 0.2
             }
            },
            "type": "bar"
           }
          ],
          "barpolar": [
           {
            "marker": {
             "line": {
              "color": "#E5ECF6",
              "width": 0.5
             },
             "pattern": {
              "fillmode": "overlay",
              "size": 10,
              "solidity": 0.2
             }
            },
            "type": "barpolar"
           }
          ],
          "carpet": [
           {
            "aaxis": {
             "endlinecolor": "#2a3f5f",
             "gridcolor": "white",
             "linecolor": "white",
             "minorgridcolor": "white",
             "startlinecolor": "#2a3f5f"
            },
            "baxis": {
             "endlinecolor": "#2a3f5f",
             "gridcolor": "white",
             "linecolor": "white",
             "minorgridcolor": "white",
             "startlinecolor": "#2a3f5f"
            },
            "type": "carpet"
           }
          ],
          "choropleth": [
           {
            "colorbar": {
             "outlinewidth": 0,
             "ticks": ""
            },
            "type": "choropleth"
           }
          ],
          "contour": [
           {
            "colorbar": {
             "outlinewidth": 0,
             "ticks": ""
            },
            "colorscale": [
             [
              0,
              "#0d0887"
             ],
             [
              0.1111111111111111,
              "#46039f"
             ],
             [
              0.2222222222222222,
              "#7201a8"
             ],
             [
              0.3333333333333333,
              "#9c179e"
             ],
             [
              0.4444444444444444,
              "#bd3786"
             ],
             [
              0.5555555555555556,
              "#d8576b"
             ],
             [
              0.6666666666666666,
              "#ed7953"
             ],
             [
              0.7777777777777778,
              "#fb9f3a"
             ],
             [
              0.8888888888888888,
              "#fdca26"
             ],
             [
              1,
              "#f0f921"
             ]
            ],
            "type": "contour"
           }
          ],
          "contourcarpet": [
           {
            "colorbar": {
             "outlinewidth": 0,
             "ticks": ""
            },
            "type": "contourcarpet"
           }
          ],
          "heatmap": [
           {
            "colorbar": {
             "outlinewidth": 0,
             "ticks": ""
            },
            "colorscale": [
             [
              0,
              "#0d0887"
             ],
             [
              0.1111111111111111,
              "#46039f"
             ],
             [
              0.2222222222222222,
              "#7201a8"
             ],
             [
              0.3333333333333333,
              "#9c179e"
             ],
             [
              0.4444444444444444,
              "#bd3786"
             ],
             [
              0.5555555555555556,
              "#d8576b"
             ],
             [
              0.6666666666666666,
              "#ed7953"
             ],
             [
              0.7777777777777778,
              "#fb9f3a"
             ],
             [
              0.8888888888888888,
              "#fdca26"
             ],
             [
              1,
              "#f0f921"
             ]
            ],
            "type": "heatmap"
           }
          ],
          "histogram": [
           {
            "marker": {
             "pattern": {
              "fillmode": "overlay",
              "size": 10,
              "solidity": 0.2
             }
            },
            "type": "histogram"
           }
          ],
          "histogram2d": [
           {
            "colorbar": {
             "outlinewidth": 0,
             "ticks": ""
            },
            "colorscale": [
             [
              0,
              "#0d0887"
             ],
             [
              0.1111111111111111,
              "#46039f"
             ],
             [
              0.2222222222222222,
              "#7201a8"
             ],
             [
              0.3333333333333333,
              "#9c179e"
             ],
             [
              0.4444444444444444,
              "#bd3786"
             ],
             [
              0.5555555555555556,
              "#d8576b"
             ],
             [
              0.6666666666666666,
              "#ed7953"
             ],
             [
              0.7777777777777778,
              "#fb9f3a"
             ],
             [
              0.8888888888888888,
              "#fdca26"
             ],
             [
              1,
              "#f0f921"
             ]
            ],
            "type": "histogram2d"
           }
          ],
          "histogram2dcontour": [
           {
            "colorbar": {
             "outlinewidth": 0,
             "ticks": ""
            },
            "colorscale": [
             [
              0,
              "#0d0887"
             ],
             [
              0.1111111111111111,
              "#46039f"
             ],
             [
              0.2222222222222222,
              "#7201a8"
             ],
             [
              0.3333333333333333,
              "#9c179e"
             ],
             [
              0.4444444444444444,
              "#bd3786"
             ],
             [
              0.5555555555555556,
              "#d8576b"
             ],
             [
              0.6666666666666666,
              "#ed7953"
             ],
             [
              0.7777777777777778,
              "#fb9f3a"
             ],
             [
              0.8888888888888888,
              "#fdca26"
             ],
             [
              1,
              "#f0f921"
             ]
            ],
            "type": "histogram2dcontour"
           }
          ],
          "mesh3d": [
           {
            "colorbar": {
             "outlinewidth": 0,
             "ticks": ""
            },
            "type": "mesh3d"
           }
          ],
          "parcoords": [
           {
            "line": {
             "colorbar": {
              "outlinewidth": 0,
              "ticks": ""
             }
            },
            "type": "parcoords"
           }
          ],
          "pie": [
           {
            "automargin": true,
            "type": "pie"
           }
          ],
          "scatter": [
           {
            "fillpattern": {
             "fillmode": "overlay",
             "size": 10,
             "solidity": 0.2
            },
            "type": "scatter"
           }
          ],
          "scatter3d": [
           {
            "line": {
             "colorbar": {
              "outlinewidth": 0,
              "ticks": ""
             }
            },
            "marker": {
             "colorbar": {
              "outlinewidth": 0,
              "ticks": ""
             }
            },
            "type": "scatter3d"
           }
          ],
          "scattercarpet": [
           {
            "marker": {
             "colorbar": {
              "outlinewidth": 0,
              "ticks": ""
             }
            },
            "type": "scattercarpet"
           }
          ],
          "scattergeo": [
           {
            "marker": {
             "colorbar": {
              "outlinewidth": 0,
              "ticks": ""
             }
            },
            "type": "scattergeo"
           }
          ],
          "scattergl": [
           {
            "marker": {
             "colorbar": {
              "outlinewidth": 0,
              "ticks": ""
             }
            },
            "type": "scattergl"
           }
          ],
          "scattermap": [
           {
            "marker": {
             "colorbar": {
              "outlinewidth": 0,
              "ticks": ""
             }
            },
            "type": "scattermap"
           }
          ],
          "scattermapbox": [
           {
            "marker": {
             "colorbar": {
              "outlinewidth": 0,
              "ticks": ""
             }
            },
            "type": "scattermapbox"
           }
          ],
          "scatterpolar": [
           {
            "marker": {
             "colorbar": {
              "outlinewidth": 0,
              "ticks": ""
             }
            },
            "type": "scatterpolar"
           }
          ],
          "scatterpolargl": [
           {
            "marker": {
             "colorbar": {
              "outlinewidth": 0,
              "ticks": ""
             }
            },
            "type": "scatterpolargl"
           }
          ],
          "scatterternary": [
           {
            "marker": {
             "colorbar": {
              "outlinewidth": 0,
              "ticks": ""
             }
            },
            "type": "scatterternary"
           }
          ],
          "surface": [
           {
            "colorbar": {
             "outlinewidth": 0,
             "ticks": ""
            },
            "colorscale": [
             [
              0,
              "#0d0887"
             ],
             [
              0.1111111111111111,
              "#46039f"
             ],
             [
              0.2222222222222222,
              "#7201a8"
             ],
             [
              0.3333333333333333,
              "#9c179e"
             ],
             [
              0.4444444444444444,
              "#bd3786"
             ],
             [
              0.5555555555555556,
              "#d8576b"
             ],
             [
              0.6666666666666666,
              "#ed7953"
             ],
             [
              0.7777777777777778,
              "#fb9f3a"
             ],
             [
              0.8888888888888888,
              "#fdca26"
             ],
             [
              1,
              "#f0f921"
             ]
            ],
            "type": "surface"
           }
          ],
          "table": [
           {
            "cells": {
             "fill": {
              "color": "#EBF0F8"
             },
             "line": {
              "color": "white"
             }
            },
            "header": {
             "fill": {
              "color": "#C8D4E3"
             },
             "line": {
              "color": "white"
             }
            },
            "type": "table"
           }
          ]
         },
         "layout": {
          "annotationdefaults": {
           "arrowcolor": "#2a3f5f",
           "arrowhead": 0,
           "arrowwidth": 1
          },
          "autotypenumbers": "strict",
          "coloraxis": {
           "colorbar": {
            "outlinewidth": 0,
            "ticks": ""
           }
          },
          "colorscale": {
           "diverging": [
            [
             0,
             "#8e0152"
            ],
            [
             0.1,
             "#c51b7d"
            ],
            [
             0.2,
             "#de77ae"
            ],
            [
             0.3,
             "#f1b6da"
            ],
            [
             0.4,
             "#fde0ef"
            ],
            [
             0.5,
             "#f7f7f7"
            ],
            [
             0.6,
             "#e6f5d0"
            ],
            [
             0.7,
             "#b8e186"
            ],
            [
             0.8,
             "#7fbc41"
            ],
            [
             0.9,
             "#4d9221"
            ],
            [
             1,
             "#276419"
            ]
           ],
           "sequential": [
            [
             0,
             "#0d0887"
            ],
            [
             0.1111111111111111,
             "#46039f"
            ],
            [
             0.2222222222222222,
             "#7201a8"
            ],
            [
             0.3333333333333333,
             "#9c179e"
            ],
            [
             0.4444444444444444,
             "#bd3786"
            ],
            [
             0.5555555555555556,
             "#d8576b"
            ],
            [
             0.6666666666666666,
             "#ed7953"
            ],
            [
             0.7777777777777778,
             "#fb9f3a"
            ],
            [
             0.8888888888888888,
             "#fdca26"
            ],
            [
             1,
             "#f0f921"
            ]
           ],
           "sequentialminus": [
            [
             0,
             "#0d0887"
            ],
            [
             0.1111111111111111,
             "#46039f"
            ],
            [
             0.2222222222222222,
             "#7201a8"
            ],
            [
             0.3333333333333333,
             "#9c179e"
            ],
            [
             0.4444444444444444,
             "#bd3786"
            ],
            [
             0.5555555555555556,
             "#d8576b"
            ],
            [
             0.6666666666666666,
             "#ed7953"
            ],
            [
             0.7777777777777778,
             "#fb9f3a"
            ],
            [
             0.8888888888888888,
             "#fdca26"
            ],
            [
             1,
             "#f0f921"
            ]
           ]
          },
          "colorway": [
           "#636efa",
           "#EF553B",
           "#00cc96",
           "#ab63fa",
           "#FFA15A",
           "#19d3f3",
           "#FF6692",
           "#B6E880",
           "#FF97FF",
           "#FECB52"
          ],
          "font": {
           "color": "#2a3f5f"
          },
          "geo": {
           "bgcolor": "white",
           "lakecolor": "white",
           "landcolor": "#E5ECF6",
           "showlakes": true,
           "showland": true,
           "subunitcolor": "white"
          },
          "hoverlabel": {
           "align": "left"
          },
          "hovermode": "closest",
          "mapbox": {
           "style": "light"
          },
          "paper_bgcolor": "white",
          "plot_bgcolor": "#E5ECF6",
          "polar": {
           "angularaxis": {
            "gridcolor": "white",
            "linecolor": "white",
            "ticks": ""
           },
           "bgcolor": "#E5ECF6",
           "radialaxis": {
            "gridcolor": "white",
            "linecolor": "white",
            "ticks": ""
           }
          },
          "scene": {
           "xaxis": {
            "backgroundcolor": "#E5ECF6",
            "gridcolor": "white",
            "gridwidth": 2,
            "linecolor": "white",
            "showbackground": true,
            "ticks": "",
            "zerolinecolor": "white"
           },
           "yaxis": {
            "backgroundcolor": "#E5ECF6",
            "gridcolor": "white",
            "gridwidth": 2,
            "linecolor": "white",
            "showbackground": true,
            "ticks": "",
            "zerolinecolor": "white"
           },
           "zaxis": {
            "backgroundcolor": "#E5ECF6",
            "gridcolor": "white",
            "gridwidth": 2,
            "linecolor": "white",
            "showbackground": true,
            "ticks": "",
            "zerolinecolor": "white"
           }
          },
          "shapedefaults": {
           "line": {
            "color": "#2a3f5f"
           }
          },
          "ternary": {
           "aaxis": {
            "gridcolor": "white",
            "linecolor": "white",
            "ticks": ""
           },
           "baxis": {
            "gridcolor": "white",
            "linecolor": "white",
            "ticks": ""
           },
           "bgcolor": "#E5ECF6",
           "caxis": {
            "gridcolor": "white",
            "linecolor": "white",
            "ticks": ""
           }
          },
          "title": {
           "x": 0.05
          },
          "xaxis": {
           "automargin": true,
           "gridcolor": "white",
           "linecolor": "white",
           "ticks": "",
           "title": {
            "standoff": 15
           },
           "zerolinecolor": "white",
           "zerolinewidth": 2
          },
          "yaxis": {
           "automargin": true,
           "gridcolor": "white",
           "linecolor": "white",
           "ticks": "",
           "title": {
            "standoff": 15
           },
           "zerolinecolor": "white",
           "zerolinewidth": 2
          }
         }
        },
        "title": {
         "text": "Icicle Chart for: rs_IsNewCredit"
        }
       }
      }
     },
     "metadata": {},
     "output_type": "display_data"
    }
   ],
   "source": [
    "# Example 1\n",
    "icicle('rs_IsNewCredit', log_view, metric='avg_case_duration_seconds', details=False)"
   ]
  },
  {
   "cell_type": "code",
   "execution_count": null,
   "id": "d4a0e018",
   "metadata": {},
   "outputs": [
    {
     "data": {
      "application/vnd.plotly.v1+json": {
       "config": {
        "plotlyServerURL": "https://plot.ly"
       },
       "data": [
        {
         "branchvalues": "total",
         "customdata": [
          [
           "2,529",
           "45.88",
           45.87742190589166
          ],
          [
           "7,555",
           "47.50",
           47.504831237591
          ],
          [
           "5,154",
           "44.53",
           44.53298409002716
          ],
          [
           "2,509",
           "30.07",
           30.065364687126344
          ],
          [
           "7,511",
           "31.28",
           31.27905738250566
          ],
          [
           "6,251",
           "29.99",
           29.987202047672373
          ],
          [
           "(?)",
           "(?)",
           47.09668782229274
          ],
          [
           "5,154",
           "44.53",
           44.53298409002716
          ],
          [
           "(?)",
           "(?)",
           30.975149700598802
          ],
          [
           "6,251",
           "29.99",
           29.987202047672373
          ],
          [
           "(?)",
           "(?)",
           46.22955768473553
          ],
          [
           "(?)",
           "(?)",
           30.595599532911315
          ],
          [
           "(?)",
           "(?)",
           38.15630454790695
          ]
         ],
         "domain": {
          "x": [
           0,
           1
          ],
          "y": [
           0,
           1
          ]
         },
         "hoverinfo": "skip",
         "ids": [
          "🟡 Initial Source/🟡 (CreditScore >= 600) ✔/🟡 (RequestedAmount >= 10000) ✔/🟡 (RequestedAmount < 15000) ✔",
          "🟡 Initial Source/🟡 (CreditScore >= 600) ✔/🟡 (RequestedAmount >= 10000) ✔/(RequestedAmount < 15000) ✘",
          "🟡 Initial Source/🟡 (CreditScore >= 600) ✔/(RequestedAmount >= 10000) ✘/(RequestedAmount < 15000) ✔",
          "🟡 Initial Source/(CreditScore >= 600) ✘/(RequestedAmount >= 10000) ✔/(RequestedAmount < 15000) ✔",
          "🟡 Initial Source/(CreditScore >= 600) ✘/(RequestedAmount >= 10000) ✔/(RequestedAmount < 15000) ✘",
          "🟡 Initial Source/(CreditScore >= 600) ✘/(RequestedAmount >= 10000) ✘/(RequestedAmount < 15000) ✔",
          "🟡 Initial Source/🟡 (CreditScore >= 600) ✔/🟡 (RequestedAmount >= 10000) ✔",
          "🟡 Initial Source/🟡 (CreditScore >= 600) ✔/(RequestedAmount >= 10000) ✘",
          "🟡 Initial Source/(CreditScore >= 600) ✘/(RequestedAmount >= 10000) ✔",
          "🟡 Initial Source/(CreditScore >= 600) ✘/(RequestedAmount >= 10000) ✘",
          "🟡 Initial Source/🟡 (CreditScore >= 600) ✔",
          "🟡 Initial Source/(CreditScore >= 600) ✘",
          "🟡 Initial Source"
         ],
         "labels": [
          "🟡 (RequestedAmount < 15000) ✔",
          "(RequestedAmount < 15000) ✘",
          "(RequestedAmount < 15000) ✔",
          "(RequestedAmount < 15000) ✔",
          "(RequestedAmount < 15000) ✘",
          "(RequestedAmount < 15000) ✔",
          "🟡 (RequestedAmount >= 10000) ✔",
          "(RequestedAmount >= 10000) ✘",
          "(RequestedAmount >= 10000) ✔",
          "(RequestedAmount >= 10000) ✘",
          "🟡 (CreditScore >= 600) ✔",
          "(CreditScore >= 600) ✘",
          "🟡 Initial Source"
         ],
         "marker": {
          "coloraxis": "coloraxis",
          "colors": {
           "bdata": "oUxrXE/wRkDtuVtPnsBHQD36mdI4REZAW4V5vbsQPkC1kftNcEc/QA1M/UW5/D1Am1U9RGCMR0A9+pnSOERGQKvGKGmj+T5ADUz9Rbn8PUAHPm4lYh1HQPJdAzZ5mD5A+7yUyQEUQ0A=",
           "dtype": "f8"
          }
         },
         "name": "",
         "parents": [
          "🟡 Initial Source/🟡 (CreditScore >= 600) ✔/🟡 (RequestedAmount >= 10000) ✔",
          "🟡 Initial Source/🟡 (CreditScore >= 600) ✔/🟡 (RequestedAmount >= 10000) ✔",
          "🟡 Initial Source/🟡 (CreditScore >= 600) ✔/(RequestedAmount >= 10000) ✘",
          "🟡 Initial Source/(CreditScore >= 600) ✘/(RequestedAmount >= 10000) ✔",
          "🟡 Initial Source/(CreditScore >= 600) ✘/(RequestedAmount >= 10000) ✔",
          "🟡 Initial Source/(CreditScore >= 600) ✘/(RequestedAmount >= 10000) ✘",
          "🟡 Initial Source/🟡 (CreditScore >= 600) ✔",
          "🟡 Initial Source/🟡 (CreditScore >= 600) ✔",
          "🟡 Initial Source/(CreditScore >= 600) ✘",
          "🟡 Initial Source/(CreditScore >= 600) ✘",
          "🟡 Initial Source",
          "🟡 Initial Source",
          ""
         ],
         "type": "icicle",
         "values": {
          "bdata": "AAAAAADCo0AAAAAAAIO9QAAAAAAAIrRAAAAAAACao0AAAAAAAFe9QAAAAAAAa7hAAAAAAACyw0AAAAAAACK0QAAAAAAAksNAAAAAAABruEAAAAAAAMPNQAAAAACAx89AAAAAAEDF3kA=",
          "dtype": "f8"
         }
        }
       ],
       "layout": {
        "coloraxis": {
         "colorbar": {
          "title": {
           "text": "Avg Events per Case"
          }
         },
         "colorscale": [
          [
           0,
           "rgb(255,245,240)"
          ],
          [
           0.125,
           "rgb(254,224,210)"
          ],
          [
           0.25,
           "rgb(252,187,161)"
          ],
          [
           0.375,
           "rgb(252,146,114)"
          ],
          [
           0.5,
           "rgb(251,106,74)"
          ],
          [
           0.625,
           "rgb(239,59,44)"
          ],
          [
           0.75,
           "rgb(203,24,29)"
          ],
          [
           0.875,
           "rgb(165,15,21)"
          ],
          [
           1,
           "rgb(103,0,13)"
          ]
         ]
        },
        "legend": {
         "tracegroupgap": 0
        },
        "margin": {
         "b": 0,
         "l": 0,
         "r": 0,
         "t": 40
        },
        "template": {
         "data": {
          "bar": [
           {
            "error_x": {
             "color": "#2a3f5f"
            },
            "error_y": {
             "color": "#2a3f5f"
            },
            "marker": {
             "line": {
              "color": "#E5ECF6",
              "width": 0.5
             },
             "pattern": {
              "fillmode": "overlay",
              "size": 10,
              "solidity": 0.2
             }
            },
            "type": "bar"
           }
          ],
          "barpolar": [
           {
            "marker": {
             "line": {
              "color": "#E5ECF6",
              "width": 0.5
             },
             "pattern": {
              "fillmode": "overlay",
              "size": 10,
              "solidity": 0.2
             }
            },
            "type": "barpolar"
           }
          ],
          "carpet": [
           {
            "aaxis": {
             "endlinecolor": "#2a3f5f",
             "gridcolor": "white",
             "linecolor": "white",
             "minorgridcolor": "white",
             "startlinecolor": "#2a3f5f"
            },
            "baxis": {
             "endlinecolor": "#2a3f5f",
             "gridcolor": "white",
             "linecolor": "white",
             "minorgridcolor": "white",
             "startlinecolor": "#2a3f5f"
            },
            "type": "carpet"
           }
          ],
          "choropleth": [
           {
            "colorbar": {
             "outlinewidth": 0,
             "ticks": ""
            },
            "type": "choropleth"
           }
          ],
          "contour": [
           {
            "colorbar": {
             "outlinewidth": 0,
             "ticks": ""
            },
            "colorscale": [
             [
              0,
              "#0d0887"
             ],
             [
              0.1111111111111111,
              "#46039f"
             ],
             [
              0.2222222222222222,
              "#7201a8"
             ],
             [
              0.3333333333333333,
              "#9c179e"
             ],
             [
              0.4444444444444444,
              "#bd3786"
             ],
             [
              0.5555555555555556,
              "#d8576b"
             ],
             [
              0.6666666666666666,
              "#ed7953"
             ],
             [
              0.7777777777777778,
              "#fb9f3a"
             ],
             [
              0.8888888888888888,
              "#fdca26"
             ],
             [
              1,
              "#f0f921"
             ]
            ],
            "type": "contour"
           }
          ],
          "contourcarpet": [
           {
            "colorbar": {
             "outlinewidth": 0,
             "ticks": ""
            },
            "type": "contourcarpet"
           }
          ],
          "heatmap": [
           {
            "colorbar": {
             "outlinewidth": 0,
             "ticks": ""
            },
            "colorscale": [
             [
              0,
              "#0d0887"
             ],
             [
              0.1111111111111111,
              "#46039f"
             ],
             [
              0.2222222222222222,
              "#7201a8"
             ],
             [
              0.3333333333333333,
              "#9c179e"
             ],
             [
              0.4444444444444444,
              "#bd3786"
             ],
             [
              0.5555555555555556,
              "#d8576b"
             ],
             [
              0.6666666666666666,
              "#ed7953"
             ],
             [
              0.7777777777777778,
              "#fb9f3a"
             ],
             [
              0.8888888888888888,
              "#fdca26"
             ],
             [
              1,
              "#f0f921"
             ]
            ],
            "type": "heatmap"
           }
          ],
          "histogram": [
           {
            "marker": {
             "pattern": {
              "fillmode": "overlay",
              "size": 10,
              "solidity": 0.2
             }
            },
            "type": "histogram"
           }
          ],
          "histogram2d": [
           {
            "colorbar": {
             "outlinewidth": 0,
             "ticks": ""
            },
            "colorscale": [
             [
              0,
              "#0d0887"
             ],
             [
              0.1111111111111111,
              "#46039f"
             ],
             [
              0.2222222222222222,
              "#7201a8"
             ],
             [
              0.3333333333333333,
              "#9c179e"
             ],
             [
              0.4444444444444444,
              "#bd3786"
             ],
             [
              0.5555555555555556,
              "#d8576b"
             ],
             [
              0.6666666666666666,
              "#ed7953"
             ],
             [
              0.7777777777777778,
              "#fb9f3a"
             ],
             [
              0.8888888888888888,
              "#fdca26"
             ],
             [
              1,
              "#f0f921"
             ]
            ],
            "type": "histogram2d"
           }
          ],
          "histogram2dcontour": [
           {
            "colorbar": {
             "outlinewidth": 0,
             "ticks": ""
            },
            "colorscale": [
             [
              0,
              "#0d0887"
             ],
             [
              0.1111111111111111,
              "#46039f"
             ],
             [
              0.2222222222222222,
              "#7201a8"
             ],
             [
              0.3333333333333333,
              "#9c179e"
             ],
             [
              0.4444444444444444,
              "#bd3786"
             ],
             [
              0.5555555555555556,
              "#d8576b"
             ],
             [
              0.6666666666666666,
              "#ed7953"
             ],
             [
              0.7777777777777778,
              "#fb9f3a"
             ],
             [
              0.8888888888888888,
              "#fdca26"
             ],
             [
              1,
              "#f0f921"
             ]
            ],
            "type": "histogram2dcontour"
           }
          ],
          "mesh3d": [
           {
            "colorbar": {
             "outlinewidth": 0,
             "ticks": ""
            },
            "type": "mesh3d"
           }
          ],
          "parcoords": [
           {
            "line": {
             "colorbar": {
              "outlinewidth": 0,
              "ticks": ""
             }
            },
            "type": "parcoords"
           }
          ],
          "pie": [
           {
            "automargin": true,
            "type": "pie"
           }
          ],
          "scatter": [
           {
            "fillpattern": {
             "fillmode": "overlay",
             "size": 10,
             "solidity": 0.2
            },
            "type": "scatter"
           }
          ],
          "scatter3d": [
           {
            "line": {
             "colorbar": {
              "outlinewidth": 0,
              "ticks": ""
             }
            },
            "marker": {
             "colorbar": {
              "outlinewidth": 0,
              "ticks": ""
             }
            },
            "type": "scatter3d"
           }
          ],
          "scattercarpet": [
           {
            "marker": {
             "colorbar": {
              "outlinewidth": 0,
              "ticks": ""
             }
            },
            "type": "scattercarpet"
           }
          ],
          "scattergeo": [
           {
            "marker": {
             "colorbar": {
              "outlinewidth": 0,
              "ticks": ""
             }
            },
            "type": "scattergeo"
           }
          ],
          "scattergl": [
           {
            "marker": {
             "colorbar": {
              "outlinewidth": 0,
              "ticks": ""
             }
            },
            "type": "scattergl"
           }
          ],
          "scattermap": [
           {
            "marker": {
             "colorbar": {
              "outlinewidth": 0,
              "ticks": ""
             }
            },
            "type": "scattermap"
           }
          ],
          "scattermapbox": [
           {
            "marker": {
             "colorbar": {
              "outlinewidth": 0,
              "ticks": ""
             }
            },
            "type": "scattermapbox"
           }
          ],
          "scatterpolar": [
           {
            "marker": {
             "colorbar": {
              "outlinewidth": 0,
              "ticks": ""
             }
            },
            "type": "scatterpolar"
           }
          ],
          "scatterpolargl": [
           {
            "marker": {
             "colorbar": {
              "outlinewidth": 0,
              "ticks": ""
             }
            },
            "type": "scatterpolargl"
           }
          ],
          "scatterternary": [
           {
            "marker": {
             "colorbar": {
              "outlinewidth": 0,
              "ticks": ""
             }
            },
            "type": "scatterternary"
           }
          ],
          "surface": [
           {
            "colorbar": {
             "outlinewidth": 0,
             "ticks": ""
            },
            "colorscale": [
             [
              0,
              "#0d0887"
             ],
             [
              0.1111111111111111,
              "#46039f"
             ],
             [
              0.2222222222222222,
              "#7201a8"
             ],
             [
              0.3333333333333333,
              "#9c179e"
             ],
             [
              0.4444444444444444,
              "#bd3786"
             ],
             [
              0.5555555555555556,
              "#d8576b"
             ],
             [
              0.6666666666666666,
              "#ed7953"
             ],
             [
              0.7777777777777778,
              "#fb9f3a"
             ],
             [
              0.8888888888888888,
              "#fdca26"
             ],
             [
              1,
              "#f0f921"
             ]
            ],
            "type": "surface"
           }
          ],
          "table": [
           {
            "cells": {
             "fill": {
              "color": "#EBF0F8"
             },
             "line": {
              "color": "white"
             }
            },
            "header": {
             "fill": {
              "color": "#C8D4E3"
             },
             "line": {
              "color": "white"
             }
            },
            "type": "table"
           }
          ]
         },
         "layout": {
          "annotationdefaults": {
           "arrowcolor": "#2a3f5f",
           "arrowhead": 0,
           "arrowwidth": 1
          },
          "autotypenumbers": "strict",
          "coloraxis": {
           "colorbar": {
            "outlinewidth": 0,
            "ticks": ""
           }
          },
          "colorscale": {
           "diverging": [
            [
             0,
             "#8e0152"
            ],
            [
             0.1,
             "#c51b7d"
            ],
            [
             0.2,
             "#de77ae"
            ],
            [
             0.3,
             "#f1b6da"
            ],
            [
             0.4,
             "#fde0ef"
            ],
            [
             0.5,
             "#f7f7f7"
            ],
            [
             0.6,
             "#e6f5d0"
            ],
            [
             0.7,
             "#b8e186"
            ],
            [
             0.8,
             "#7fbc41"
            ],
            [
             0.9,
             "#4d9221"
            ],
            [
             1,
             "#276419"
            ]
           ],
           "sequential": [
            [
             0,
             "#0d0887"
            ],
            [
             0.1111111111111111,
             "#46039f"
            ],
            [
             0.2222222222222222,
             "#7201a8"
            ],
            [
             0.3333333333333333,
             "#9c179e"
            ],
            [
             0.4444444444444444,
             "#bd3786"
            ],
            [
             0.5555555555555556,
             "#d8576b"
            ],
            [
             0.6666666666666666,
             "#ed7953"
            ],
            [
             0.7777777777777778,
             "#fb9f3a"
            ],
            [
             0.8888888888888888,
             "#fdca26"
            ],
            [
             1,
             "#f0f921"
            ]
           ],
           "sequentialminus": [
            [
             0,
             "#0d0887"
            ],
            [
             0.1111111111111111,
             "#46039f"
            ],
            [
             0.2222222222222222,
             "#7201a8"
            ],
            [
             0.3333333333333333,
             "#9c179e"
            ],
            [
             0.4444444444444444,
             "#bd3786"
            ],
            [
             0.5555555555555556,
             "#d8576b"
            ],
            [
             0.6666666666666666,
             "#ed7953"
            ],
            [
             0.7777777777777778,
             "#fb9f3a"
            ],
            [
             0.8888888888888888,
             "#fdca26"
            ],
            [
             1,
             "#f0f921"
            ]
           ]
          },
          "colorway": [
           "#636efa",
           "#EF553B",
           "#00cc96",
           "#ab63fa",
           "#FFA15A",
           "#19d3f3",
           "#FF6692",
           "#B6E880",
           "#FF97FF",
           "#FECB52"
          ],
          "font": {
           "color": "#2a3f5f"
          },
          "geo": {
           "bgcolor": "white",
           "lakecolor": "white",
           "landcolor": "#E5ECF6",
           "showlakes": true,
           "showland": true,
           "subunitcolor": "white"
          },
          "hoverlabel": {
           "align": "left"
          },
          "hovermode": "closest",
          "mapbox": {
           "style": "light"
          },
          "paper_bgcolor": "white",
          "plot_bgcolor": "#E5ECF6",
          "polar": {
           "angularaxis": {
            "gridcolor": "white",
            "linecolor": "white",
            "ticks": ""
           },
           "bgcolor": "#E5ECF6",
           "radialaxis": {
            "gridcolor": "white",
            "linecolor": "white",
            "ticks": ""
           }
          },
          "scene": {
           "xaxis": {
            "backgroundcolor": "#E5ECF6",
            "gridcolor": "white",
            "gridwidth": 2,
            "linecolor": "white",
            "showbackground": true,
            "ticks": "",
            "zerolinecolor": "white"
           },
           "yaxis": {
            "backgroundcolor": "#E5ECF6",
            "gridcolor": "white",
            "gridwidth": 2,
            "linecolor": "white",
            "showbackground": true,
            "ticks": "",
            "zerolinecolor": "white"
           },
           "zaxis": {
            "backgroundcolor": "#E5ECF6",
            "gridcolor": "white",
            "gridwidth": 2,
            "linecolor": "white",
            "showbackground": true,
            "ticks": "",
            "zerolinecolor": "white"
           }
          },
          "shapedefaults": {
           "line": {
            "color": "#2a3f5f"
           }
          },
          "ternary": {
           "aaxis": {
            "gridcolor": "white",
            "linecolor": "white",
            "ticks": ""
           },
           "baxis": {
            "gridcolor": "white",
            "linecolor": "white",
            "ticks": ""
           },
           "bgcolor": "#E5ECF6",
           "caxis": {
            "gridcolor": "white",
            "linecolor": "white",
            "ticks": ""
           }
          },
          "title": {
           "x": 0.05
          },
          "xaxis": {
           "automargin": true,
           "gridcolor": "white",
           "linecolor": "white",
           "ticks": "",
           "title": {
            "standoff": 15
           },
           "zerolinecolor": "white",
           "zerolinewidth": 2
          },
          "yaxis": {
           "automargin": true,
           "gridcolor": "white",
           "linecolor": "white",
           "ticks": "",
           "title": {
            "standoff": 15
           },
           "zerolinecolor": "white",
           "zerolinewidth": 2
          }
         }
        },
        "title": {
         "text": "Icicle Chart for: rs_SmallAmount"
        }
       }
      }
     },
     "metadata": {},
     "output_type": "display_data"
    }
   ],
   "source": [
    "# Example 2\n",
    "icicle('rs_SmallAmount', log_view, metric='avg_events_per_case', details=False)"
   ]
  },
  {
   "cell_type": "code",
   "execution_count": null,
   "id": "e359ee27",
   "metadata": {},
   "outputs": [
    {
     "data": {
      "application/vnd.plotly.v1+json": {
       "config": {
        "plotlyServerURL": "https://plot.ly"
       },
       "data": [
        {
         "branchvalues": "total",
         "customdata": [
          [
           "10,084",
           "0d 10h 21m",
           37299.33259855871
          ],
          [
           "5,154",
           "0d 9h 28m",
           34089.13155867521
          ],
          [
           "10,020",
           "0d 23h 7m",
           83267.97971010399
          ],
          [
           "6,251",
           "0d 23h 22m",
           84175.73739645114
          ],
          [
           "(?)",
           "(?)",
           36213.53550185575
          ],
          [
           "(?)",
           "(?)",
           83616.72246084802
          ],
          [
           "(?)",
           "(?)",
           60692.16874980913
          ]
         ],
         "domain": {
          "x": [
           0,
           1
          ],
          "y": [
           0,
           1
          ]
         },
         "hoverinfo": "skip",
         "ids": [
          "🟡 Initial Source/🟡 (CreditScore >= 600) ✔/🟡 (RequestedAmount >= 10000) ✔",
          "🟡 Initial Source/🟡 (CreditScore >= 600) ✔/(RequestedAmount >= 10000) ✘",
          "🟡 Initial Source/(CreditScore >= 600) ✘/(RequestedAmount >= 10000) ✔",
          "🟡 Initial Source/(CreditScore >= 600) ✘/(RequestedAmount >= 10000) ✘",
          "🟡 Initial Source/🟡 (CreditScore >= 600) ✔",
          "🟡 Initial Source/(CreditScore >= 600) ✘",
          "🟡 Initial Source"
         ],
         "labels": [
          "🟡 (RequestedAmount >= 10000) ✔",
          "(RequestedAmount >= 10000) ✘",
          "(RequestedAmount >= 10000) ✔",
          "(RequestedAmount >= 10000) ✘",
          "🟡 (CreditScore >= 600) ✔",
          "(CreditScore >= 600) ✘",
          "🟡 Initial Source"
         ],
         "marker": {
          "coloraxis": "coloraxis",
          "colors": {
           "bdata": "i7ulpGo24kDxibo1JKXgQIOA5Kw/VPRAnThgzPuM9ECtydQisa7hQC4bM48LavRA7f9lZoWi7UA=",
           "dtype": "f8"
          }
         },
         "name": "",
         "parents": [
          "🟡 Initial Source/🟡 (CreditScore >= 600) ✔",
          "🟡 Initial Source/🟡 (CreditScore >= 600) ✔",
          "🟡 Initial Source/(CreditScore >= 600) ✘",
          "🟡 Initial Source/(CreditScore >= 600) ✘",
          "🟡 Initial Source",
          "🟡 Initial Source",
          ""
         ],
         "type": "icicle",
         "values": {
          "bdata": "AAAAAACyw0AAAAAAACK0QAAAAAAAksNAAAAAAABruEAAAAAAAMPNQAAAAACAx89AAAAAAEDF3kA=",
          "dtype": "f8"
         }
        }
       ],
       "layout": {
        "coloraxis": {
         "colorbar": {
          "title": {
           "text": "Avg Time Between Events (s)"
          }
         },
         "colorscale": [
          [
           0,
           "rgb(247,252,245)"
          ],
          [
           0.125,
           "rgb(229,245,224)"
          ],
          [
           0.25,
           "rgb(199,233,192)"
          ],
          [
           0.375,
           "rgb(161,217,155)"
          ],
          [
           0.5,
           "rgb(116,196,118)"
          ],
          [
           0.625,
           "rgb(65,171,93)"
          ],
          [
           0.75,
           "rgb(35,139,69)"
          ],
          [
           0.875,
           "rgb(0,109,44)"
          ],
          [
           1,
           "rgb(0,68,27)"
          ]
         ]
        },
        "legend": {
         "tracegroupgap": 0
        },
        "margin": {
         "b": 0,
         "l": 0,
         "r": 0,
         "t": 40
        },
        "template": {
         "data": {
          "bar": [
           {
            "error_x": {
             "color": "#2a3f5f"
            },
            "error_y": {
             "color": "#2a3f5f"
            },
            "marker": {
             "line": {
              "color": "#E5ECF6",
              "width": 0.5
             },
             "pattern": {
              "fillmode": "overlay",
              "size": 10,
              "solidity": 0.2
             }
            },
            "type": "bar"
           }
          ],
          "barpolar": [
           {
            "marker": {
             "line": {
              "color": "#E5ECF6",
              "width": 0.5
             },
             "pattern": {
              "fillmode": "overlay",
              "size": 10,
              "solidity": 0.2
             }
            },
            "type": "barpolar"
           }
          ],
          "carpet": [
           {
            "aaxis": {
             "endlinecolor": "#2a3f5f",
             "gridcolor": "white",
             "linecolor": "white",
             "minorgridcolor": "white",
             "startlinecolor": "#2a3f5f"
            },
            "baxis": {
             "endlinecolor": "#2a3f5f",
             "gridcolor": "white",
             "linecolor": "white",
             "minorgridcolor": "white",
             "startlinecolor": "#2a3f5f"
            },
            "type": "carpet"
           }
          ],
          "choropleth": [
           {
            "colorbar": {
             "outlinewidth": 0,
             "ticks": ""
            },
            "type": "choropleth"
           }
          ],
          "contour": [
           {
            "colorbar": {
             "outlinewidth": 0,
             "ticks": ""
            },
            "colorscale": [
             [
              0,
              "#0d0887"
             ],
             [
              0.1111111111111111,
              "#46039f"
             ],
             [
              0.2222222222222222,
              "#7201a8"
             ],
             [
              0.3333333333333333,
              "#9c179e"
             ],
             [
              0.4444444444444444,
              "#bd3786"
             ],
             [
              0.5555555555555556,
              "#d8576b"
             ],
             [
              0.6666666666666666,
              "#ed7953"
             ],
             [
              0.7777777777777778,
              "#fb9f3a"
             ],
             [
              0.8888888888888888,
              "#fdca26"
             ],
             [
              1,
              "#f0f921"
             ]
            ],
            "type": "contour"
           }
          ],
          "contourcarpet": [
           {
            "colorbar": {
             "outlinewidth": 0,
             "ticks": ""
            },
            "type": "contourcarpet"
           }
          ],
          "heatmap": [
           {
            "colorbar": {
             "outlinewidth": 0,
             "ticks": ""
            },
            "colorscale": [
             [
              0,
              "#0d0887"
             ],
             [
              0.1111111111111111,
              "#46039f"
             ],
             [
              0.2222222222222222,
              "#7201a8"
             ],
             [
              0.3333333333333333,
              "#9c179e"
             ],
             [
              0.4444444444444444,
              "#bd3786"
             ],
             [
              0.5555555555555556,
              "#d8576b"
             ],
             [
              0.6666666666666666,
              "#ed7953"
             ],
             [
              0.7777777777777778,
              "#fb9f3a"
             ],
             [
              0.8888888888888888,
              "#fdca26"
             ],
             [
              1,
              "#f0f921"
             ]
            ],
            "type": "heatmap"
           }
          ],
          "histogram": [
           {
            "marker": {
             "pattern": {
              "fillmode": "overlay",
              "size": 10,
              "solidity": 0.2
             }
            },
            "type": "histogram"
           }
          ],
          "histogram2d": [
           {
            "colorbar": {
             "outlinewidth": 0,
             "ticks": ""
            },
            "colorscale": [
             [
              0,
              "#0d0887"
             ],
             [
              0.1111111111111111,
              "#46039f"
             ],
             [
              0.2222222222222222,
              "#7201a8"
             ],
             [
              0.3333333333333333,
              "#9c179e"
             ],
             [
              0.4444444444444444,
              "#bd3786"
             ],
             [
              0.5555555555555556,
              "#d8576b"
             ],
             [
              0.6666666666666666,
              "#ed7953"
             ],
             [
              0.7777777777777778,
              "#fb9f3a"
             ],
             [
              0.8888888888888888,
              "#fdca26"
             ],
             [
              1,
              "#f0f921"
             ]
            ],
            "type": "histogram2d"
           }
          ],
          "histogram2dcontour": [
           {
            "colorbar": {
             "outlinewidth": 0,
             "ticks": ""
            },
            "colorscale": [
             [
              0,
              "#0d0887"
             ],
             [
              0.1111111111111111,
              "#46039f"
             ],
             [
              0.2222222222222222,
              "#7201a8"
             ],
             [
              0.3333333333333333,
              "#9c179e"
             ],
             [
              0.4444444444444444,
              "#bd3786"
             ],
             [
              0.5555555555555556,
              "#d8576b"
             ],
             [
              0.6666666666666666,
              "#ed7953"
             ],
             [
              0.7777777777777778,
              "#fb9f3a"
             ],
             [
              0.8888888888888888,
              "#fdca26"
             ],
             [
              1,
              "#f0f921"
             ]
            ],
            "type": "histogram2dcontour"
           }
          ],
          "mesh3d": [
           {
            "colorbar": {
             "outlinewidth": 0,
             "ticks": ""
            },
            "type": "mesh3d"
           }
          ],
          "parcoords": [
           {
            "line": {
             "colorbar": {
              "outlinewidth": 0,
              "ticks": ""
             }
            },
            "type": "parcoords"
           }
          ],
          "pie": [
           {
            "automargin": true,
            "type": "pie"
           }
          ],
          "scatter": [
           {
            "fillpattern": {
             "fillmode": "overlay",
             "size": 10,
             "solidity": 0.2
            },
            "type": "scatter"
           }
          ],
          "scatter3d": [
           {
            "line": {
             "colorbar": {
              "outlinewidth": 0,
              "ticks": ""
             }
            },
            "marker": {
             "colorbar": {
              "outlinewidth": 0,
              "ticks": ""
             }
            },
            "type": "scatter3d"
           }
          ],
          "scattercarpet": [
           {
            "marker": {
             "colorbar": {
              "outlinewidth": 0,
              "ticks": ""
             }
            },
            "type": "scattercarpet"
           }
          ],
          "scattergeo": [
           {
            "marker": {
             "colorbar": {
              "outlinewidth": 0,
              "ticks": ""
             }
            },
            "type": "scattergeo"
           }
          ],
          "scattergl": [
           {
            "marker": {
             "colorbar": {
              "outlinewidth": 0,
              "ticks": ""
             }
            },
            "type": "scattergl"
           }
          ],
          "scattermap": [
           {
            "marker": {
             "colorbar": {
              "outlinewidth": 0,
              "ticks": ""
             }
            },
            "type": "scattermap"
           }
          ],
          "scattermapbox": [
           {
            "marker": {
             "colorbar": {
              "outlinewidth": 0,
              "ticks": ""
             }
            },
            "type": "scattermapbox"
           }
          ],
          "scatterpolar": [
           {
            "marker": {
             "colorbar": {
              "outlinewidth": 0,
              "ticks": ""
             }
            },
            "type": "scatterpolar"
           }
          ],
          "scatterpolargl": [
           {
            "marker": {
             "colorbar": {
              "outlinewidth": 0,
              "ticks": ""
             }
            },
            "type": "scatterpolargl"
           }
          ],
          "scatterternary": [
           {
            "marker": {
             "colorbar": {
              "outlinewidth": 0,
              "ticks": ""
             }
            },
            "type": "scatterternary"
           }
          ],
          "surface": [
           {
            "colorbar": {
             "outlinewidth": 0,
             "ticks": ""
            },
            "colorscale": [
             [
              0,
              "#0d0887"
             ],
             [
              0.1111111111111111,
              "#46039f"
             ],
             [
              0.2222222222222222,
              "#7201a8"
             ],
             [
              0.3333333333333333,
              "#9c179e"
             ],
             [
              0.4444444444444444,
              "#bd3786"
             ],
             [
              0.5555555555555556,
              "#d8576b"
             ],
             [
              0.6666666666666666,
              "#ed7953"
             ],
             [
              0.7777777777777778,
              "#fb9f3a"
             ],
             [
              0.8888888888888888,
              "#fdca26"
             ],
             [
              1,
              "#f0f921"
             ]
            ],
            "type": "surface"
           }
          ],
          "table": [
           {
            "cells": {
             "fill": {
              "color": "#EBF0F8"
             },
             "line": {
              "color": "white"
             }
            },
            "header": {
             "fill": {
              "color": "#C8D4E3"
             },
             "line": {
              "color": "white"
             }
            },
            "type": "table"
           }
          ]
         },
         "layout": {
          "annotationdefaults": {
           "arrowcolor": "#2a3f5f",
           "arrowhead": 0,
           "arrowwidth": 1
          },
          "autotypenumbers": "strict",
          "coloraxis": {
           "colorbar": {
            "outlinewidth": 0,
            "ticks": ""
           }
          },
          "colorscale": {
           "diverging": [
            [
             0,
             "#8e0152"
            ],
            [
             0.1,
             "#c51b7d"
            ],
            [
             0.2,
             "#de77ae"
            ],
            [
             0.3,
             "#f1b6da"
            ],
            [
             0.4,
             "#fde0ef"
            ],
            [
             0.5,
             "#f7f7f7"
            ],
            [
             0.6,
             "#e6f5d0"
            ],
            [
             0.7,
             "#b8e186"
            ],
            [
             0.8,
             "#7fbc41"
            ],
            [
             0.9,
             "#4d9221"
            ],
            [
             1,
             "#276419"
            ]
           ],
           "sequential": [
            [
             0,
             "#0d0887"
            ],
            [
             0.1111111111111111,
             "#46039f"
            ],
            [
             0.2222222222222222,
             "#7201a8"
            ],
            [
             0.3333333333333333,
             "#9c179e"
            ],
            [
             0.4444444444444444,
             "#bd3786"
            ],
            [
             0.5555555555555556,
             "#d8576b"
            ],
            [
             0.6666666666666666,
             "#ed7953"
            ],
            [
             0.7777777777777778,
             "#fb9f3a"
            ],
            [
             0.8888888888888888,
             "#fdca26"
            ],
            [
             1,
             "#f0f921"
            ]
           ],
           "sequentialminus": [
            [
             0,
             "#0d0887"
            ],
            [
             0.1111111111111111,
             "#46039f"
            ],
            [
             0.2222222222222222,
             "#7201a8"
            ],
            [
             0.3333333333333333,
             "#9c179e"
            ],
            [
             0.4444444444444444,
             "#bd3786"
            ],
            [
             0.5555555555555556,
             "#d8576b"
            ],
            [
             0.6666666666666666,
             "#ed7953"
            ],
            [
             0.7777777777777778,
             "#fb9f3a"
            ],
            [
             0.8888888888888888,
             "#fdca26"
            ],
            [
             1,
             "#f0f921"
            ]
           ]
          },
          "colorway": [
           "#636efa",
           "#EF553B",
           "#00cc96",
           "#ab63fa",
           "#FFA15A",
           "#19d3f3",
           "#FF6692",
           "#B6E880",
           "#FF97FF",
           "#FECB52"
          ],
          "font": {
           "color": "#2a3f5f"
          },
          "geo": {
           "bgcolor": "white",
           "lakecolor": "white",
           "landcolor": "#E5ECF6",
           "showlakes": true,
           "showland": true,
           "subunitcolor": "white"
          },
          "hoverlabel": {
           "align": "left"
          },
          "hovermode": "closest",
          "mapbox": {
           "style": "light"
          },
          "paper_bgcolor": "white",
          "plot_bgcolor": "#E5ECF6",
          "polar": {
           "angularaxis": {
            "gridcolor": "white",
            "linecolor": "white",
            "ticks": ""
           },
           "bgcolor": "#E5ECF6",
           "radialaxis": {
            "gridcolor": "white",
            "linecolor": "white",
            "ticks": ""
           }
          },
          "scene": {
           "xaxis": {
            "backgroundcolor": "#E5ECF6",
            "gridcolor": "white",
            "gridwidth": 2,
            "linecolor": "white",
            "showbackground": true,
            "ticks": "",
            "zerolinecolor": "white"
           },
           "yaxis": {
            "backgroundcolor": "#E5ECF6",
            "gridcolor": "white",
            "gridwidth": 2,
            "linecolor": "white",
            "showbackground": true,
            "ticks": "",
            "zerolinecolor": "white"
           },
           "zaxis": {
            "backgroundcolor": "#E5ECF6",
            "gridcolor": "white",
            "gridwidth": 2,
            "linecolor": "white",
            "showbackground": true,
            "ticks": "",
            "zerolinecolor": "white"
           }
          },
          "shapedefaults": {
           "line": {
            "color": "#2a3f5f"
           }
          },
          "ternary": {
           "aaxis": {
            "gridcolor": "white",
            "linecolor": "white",
            "ticks": ""
           },
           "baxis": {
            "gridcolor": "white",
            "linecolor": "white",
            "ticks": ""
           },
           "bgcolor": "#E5ECF6",
           "caxis": {
            "gridcolor": "white",
            "linecolor": "white",
            "ticks": ""
           }
          },
          "title": {
           "x": 0.05
          },
          "xaxis": {
           "automargin": true,
           "gridcolor": "white",
           "linecolor": "white",
           "ticks": "",
           "title": {
            "standoff": 15
           },
           "zerolinecolor": "white",
           "zerolinewidth": 2
          },
          "yaxis": {
           "automargin": true,
           "gridcolor": "white",
           "linecolor": "white",
           "ticks": "",
           "title": {
            "standoff": 15
           },
           "zerolinecolor": "white",
           "zerolinewidth": 2
          }
         }
        },
        "title": {
         "text": "Icicle Chart for: rs_LoanOverThreshold"
        }
       }
      }
     },
     "metadata": {},
     "output_type": "display_data"
    },
    {
     "name": "stdout",
     "output_type": "stream",
     "text": [
      "\n",
      "Summary with Metrics:\n",
      "\n",
      "- 🟡 10,084 cases (Initial Source → (CreditScore >= 600) ✅ → (RequestedAmount >= 10000) ✅) | Avg Time Between Events (s): 10h 21m\n",
      "- 5,154 cases (Initial Source → (CreditScore >= 600) ✅ → (RequestedAmount >= 10000) ❌) | Avg Time Between Events (s): 9h 28m\n",
      "- 10,020 cases (Initial Source → (CreditScore >= 600) ❌ → (RequestedAmount >= 10000) ✅) | Avg Time Between Events (s): 23h 7m\n",
      "- 6,251 cases (Initial Source → (CreditScore >= 600) ❌ → (RequestedAmount >= 10000) ❌) | Avg Time Between Events (s): 23h 22m\n"
     ]
    }
   ],
   "source": [
    "# Example 3: details=True\n",
    "icicle('rs_LoanOverThreshold', log_view, metric='avg_time_between_events', details=True)"
   ]
  },
  {
   "cell_type": "markdown",
   "id": "43d60886",
   "metadata": {},
   "source": [
    "### General Form of the `icicle()` Function: ###\n",
    "\n",
    "```python\n",
    "icicle(result_set_name, log_view, metric='metric_name', details=False)\n"
   ]
  },
  {
   "cell_type": "code",
   "execution_count": null,
   "id": "c7485230",
   "metadata": {},
   "outputs": [],
   "source": [
    "# Call the icicle() function on your own previously created Query:\n"
   ]
  },
  {
   "cell_type": "markdown",
   "id": "21b3fb08",
   "metadata": {},
   "source": [
    "### The `pie()` Function ###\n",
    "\n",
    "The `pie()` function is designed to provide **contextual insight** into a specific filter step applied to a result set.\n",
    "\n",
    "More precisely, it answers the question:\n",
    "\n",
    "> *\"For a given filter that resulted in a certain subset (`result_set_name`), where else in the event log does this same filter also evaluate to true?\"*\n",
    "\n",
    "This allows you to assess:\n",
    "\n",
    "- **Representativeness:** Does the number of cases that passed the filter in this specific result set accurately reflect the broader event log? Or were important cases filtered out earlier in the pipeline?\n",
    "- **Metric divergence:** The chart colors encode metric values (e.g. average case duration). This highlights whether the same filter selects **similar** cases in terms of process behavior across different branches, or whether those cases **behave differently**.\n",
    "\n",
    "Each slice in the pie chart represents a group of cases where the filter condition is met, segmented by their historical lineage (i.e., the filter path leading to them). When **hovering** over the slices, the full fitlering path shows."
   ]
  },
  {
   "cell_type": "markdown",
   "id": "78fca1ec",
   "metadata": {},
   "source": [
    "Function Signature\n",
    "```python\n",
    "pie(result_set_name, log_view, metric=\"avg_case_duration_seconds\", details=True)"
   ]
  },
  {
   "cell_type": "markdown",
   "id": "9587ca84",
   "metadata": {},
   "source": [
    "### `pie()` Function Parameters\n",
    "\n",
    "| Parameter         | Type      | Description |\n",
    "|------------------|-----------|-------------|\n",
    "| `result_set_name`| `str`     | The name of the result set you want to visualize. This must correspond to a result set created via `log_view.evaluate_query(...)`. |\n",
    "| `log_view`       | `LogView` | The `LogView` object containing the original event log and all registered filtering steps. |\n",
    "| `metric`         | `str`     | The metric to visualize across the subsets. Supported values:<br> • `\"avg_case_duration_seconds\"` (default)<br> • `\"avg_events_per_case\"`<br> • `\"avg_time_between_events\"` |\n",
    "| `details`        | `bool`    | If `True` (default), prints a summary listing all filter paths with number of cases and the average metric per path. |\n"
   ]
  },
  {
   "cell_type": "markdown",
   "id": "e3d6630c",
   "metadata": {},
   "source": [
    "- The **yellow dot 🟡** in the pie chart marks the subset of cases that were actually **filtered in** and used as the final result set.\n",
    "- All other slices **without the yellow dot** represent cases that also passed the same filter but were **filtered out at earlier steps** in the process — each due to a different filtering decision."
   ]
  },
  {
   "cell_type": "code",
   "execution_count": null,
   "id": "82bac74e",
   "metadata": {},
   "outputs": [
    {
     "data": {
      "application/vnd.plotly.v1+json": {
       "config": {
        "plotlyServerURL": "https://plot.ly"
       },
       "data": [
        {
         "customdata": [
          [
           "(CreditScore >= 600) ✅ →<br>(RequestedAmount >= 10000) ✅ →<br>(RequestedAmount < 15000) ✅ →<br>(ApplicationType in { 'New credit' }) ✅"
          ],
          [
           "(CreditScore >= 600) ✅ →<br>(RequestedAmount >= 10000) ✅ →<br>(RequestedAmount < 15000) ❌ →<br>(ApplicationType in { 'New credit' }) ✅"
          ],
          [
           "(CreditScore >= 600) ✅ →<br>(RequestedAmount >= 10000) ❌ →<br>(RequestedAmount < 15000) ✅ →<br>(ApplicationType in { 'New credit' }) ✅"
          ],
          [
           "(CreditScore >= 600) ❌ →<br>(RequestedAmount >= 10000) ✅ →<br>(RequestedAmount < 15000) ✅ →<br>(ApplicationType in { 'New credit' }) ✅"
          ],
          [
           "(CreditScore >= 600) ❌ →<br>(RequestedAmount >= 10000) ✅ →<br>(RequestedAmount < 15000) ❌ →<br>(ApplicationType in { 'New credit' }) ✅"
          ],
          [
           "(CreditScore >= 600) ❌ →<br>(RequestedAmount >= 10000) ❌ →<br>(RequestedAmount < 15000) ✅ →<br>(ApplicationType in { 'New credit' }) ✅"
          ]
         ],
         "hovertemplate": "<b>%{customdata[0]}</b><extra></extra>",
         "labels": [
          "🟡 2,461 cases (9%)",
          "7,288 cases (26%)",
          "4,976 cases (18%)",
          "2,158 cases (8%)",
          "5,845 cases (21%)",
          "5,392 cases (19%)"
         ],
         "marker": {
          "colors": [
           "rgb(230, 240, 250)",
           "rgb(137, 191, 221)",
           "rgb(247, 251, 255)",
           "rgb(8, 81, 156)",
           "rgb(8, 48, 107)",
           "rgb(15, 90, 163)"
          ]
         },
         "textinfo": "label",
         "type": "pie",
         "values": {
          "bdata": "nQl4HHATbgjVFhAV",
          "dtype": "i2"
         }
        },
        {
         "hoverinfo": "none",
         "marker": {
          "cmax": 2392653.2056912784,
          "cmin": 1625787.7960035705,
          "color": [
           1625787.7960035705
          ],
          "colorbar": {
           "len": 0.8,
           "thickness": 15,
           "title": {
            "text": "Avg Duration (s)"
           }
          },
          "colorscale": [
           [
            0,
            "rgb(247,251,255)"
           ],
           [
            0.125,
            "rgb(222,235,247)"
           ],
           [
            0.25,
            "rgb(198,219,239)"
           ],
           [
            0.375,
            "rgb(158,202,225)"
           ],
           [
            0.5,
            "rgb(107,174,214)"
           ],
           [
            0.625,
            "rgb(66,146,198)"
           ],
           [
            0.75,
            "rgb(33,113,181)"
           ],
           [
            0.875,
            "rgb(8,81,156)"
           ],
           [
            1,
            "rgb(8,48,107)"
           ]
          ],
          "showscale": true
         },
         "mode": "markers",
         "showlegend": false,
         "type": "scatter",
         "x": [
          null
         ],
         "y": [
          null
         ]
        }
       ],
       "layout": {
        "height": 700,
        "paper_bgcolor": "white",
        "plot_bgcolor": "white",
        "showlegend": false,
        "template": {
         "data": {
          "bar": [
           {
            "error_x": {
             "color": "#2a3f5f"
            },
            "error_y": {
             "color": "#2a3f5f"
            },
            "marker": {
             "line": {
              "color": "#E5ECF6",
              "width": 0.5
             },
             "pattern": {
              "fillmode": "overlay",
              "size": 10,
              "solidity": 0.2
             }
            },
            "type": "bar"
           }
          ],
          "barpolar": [
           {
            "marker": {
             "line": {
              "color": "#E5ECF6",
              "width": 0.5
             },
             "pattern": {
              "fillmode": "overlay",
              "size": 10,
              "solidity": 0.2
             }
            },
            "type": "barpolar"
           }
          ],
          "carpet": [
           {
            "aaxis": {
             "endlinecolor": "#2a3f5f",
             "gridcolor": "white",
             "linecolor": "white",
             "minorgridcolor": "white",
             "startlinecolor": "#2a3f5f"
            },
            "baxis": {
             "endlinecolor": "#2a3f5f",
             "gridcolor": "white",
             "linecolor": "white",
             "minorgridcolor": "white",
             "startlinecolor": "#2a3f5f"
            },
            "type": "carpet"
           }
          ],
          "choropleth": [
           {
            "colorbar": {
             "outlinewidth": 0,
             "ticks": ""
            },
            "type": "choropleth"
           }
          ],
          "contour": [
           {
            "colorbar": {
             "outlinewidth": 0,
             "ticks": ""
            },
            "colorscale": [
             [
              0,
              "#0d0887"
             ],
             [
              0.1111111111111111,
              "#46039f"
             ],
             [
              0.2222222222222222,
              "#7201a8"
             ],
             [
              0.3333333333333333,
              "#9c179e"
             ],
             [
              0.4444444444444444,
              "#bd3786"
             ],
             [
              0.5555555555555556,
              "#d8576b"
             ],
             [
              0.6666666666666666,
              "#ed7953"
             ],
             [
              0.7777777777777778,
              "#fb9f3a"
             ],
             [
              0.8888888888888888,
              "#fdca26"
             ],
             [
              1,
              "#f0f921"
             ]
            ],
            "type": "contour"
           }
          ],
          "contourcarpet": [
           {
            "colorbar": {
             "outlinewidth": 0,
             "ticks": ""
            },
            "type": "contourcarpet"
           }
          ],
          "heatmap": [
           {
            "colorbar": {
             "outlinewidth": 0,
             "ticks": ""
            },
            "colorscale": [
             [
              0,
              "#0d0887"
             ],
             [
              0.1111111111111111,
              "#46039f"
             ],
             [
              0.2222222222222222,
              "#7201a8"
             ],
             [
              0.3333333333333333,
              "#9c179e"
             ],
             [
              0.4444444444444444,
              "#bd3786"
             ],
             [
              0.5555555555555556,
              "#d8576b"
             ],
             [
              0.6666666666666666,
              "#ed7953"
             ],
             [
              0.7777777777777778,
              "#fb9f3a"
             ],
             [
              0.8888888888888888,
              "#fdca26"
             ],
             [
              1,
              "#f0f921"
             ]
            ],
            "type": "heatmap"
           }
          ],
          "histogram": [
           {
            "marker": {
             "pattern": {
              "fillmode": "overlay",
              "size": 10,
              "solidity": 0.2
             }
            },
            "type": "histogram"
           }
          ],
          "histogram2d": [
           {
            "colorbar": {
             "outlinewidth": 0,
             "ticks": ""
            },
            "colorscale": [
             [
              0,
              "#0d0887"
             ],
             [
              0.1111111111111111,
              "#46039f"
             ],
             [
              0.2222222222222222,
              "#7201a8"
             ],
             [
              0.3333333333333333,
              "#9c179e"
             ],
             [
              0.4444444444444444,
              "#bd3786"
             ],
             [
              0.5555555555555556,
              "#d8576b"
             ],
             [
              0.6666666666666666,
              "#ed7953"
             ],
             [
              0.7777777777777778,
              "#fb9f3a"
             ],
             [
              0.8888888888888888,
              "#fdca26"
             ],
             [
              1,
              "#f0f921"
             ]
            ],
            "type": "histogram2d"
           }
          ],
          "histogram2dcontour": [
           {
            "colorbar": {
             "outlinewidth": 0,
             "ticks": ""
            },
            "colorscale": [
             [
              0,
              "#0d0887"
             ],
             [
              0.1111111111111111,
              "#46039f"
             ],
             [
              0.2222222222222222,
              "#7201a8"
             ],
             [
              0.3333333333333333,
              "#9c179e"
             ],
             [
              0.4444444444444444,
              "#bd3786"
             ],
             [
              0.5555555555555556,
              "#d8576b"
             ],
             [
              0.6666666666666666,
              "#ed7953"
             ],
             [
              0.7777777777777778,
              "#fb9f3a"
             ],
             [
              0.8888888888888888,
              "#fdca26"
             ],
             [
              1,
              "#f0f921"
             ]
            ],
            "type": "histogram2dcontour"
           }
          ],
          "mesh3d": [
           {
            "colorbar": {
             "outlinewidth": 0,
             "ticks": ""
            },
            "type": "mesh3d"
           }
          ],
          "parcoords": [
           {
            "line": {
             "colorbar": {
              "outlinewidth": 0,
              "ticks": ""
             }
            },
            "type": "parcoords"
           }
          ],
          "pie": [
           {
            "automargin": true,
            "type": "pie"
           }
          ],
          "scatter": [
           {
            "fillpattern": {
             "fillmode": "overlay",
             "size": 10,
             "solidity": 0.2
            },
            "type": "scatter"
           }
          ],
          "scatter3d": [
           {
            "line": {
             "colorbar": {
              "outlinewidth": 0,
              "ticks": ""
             }
            },
            "marker": {
             "colorbar": {
              "outlinewidth": 0,
              "ticks": ""
             }
            },
            "type": "scatter3d"
           }
          ],
          "scattercarpet": [
           {
            "marker": {
             "colorbar": {
              "outlinewidth": 0,
              "ticks": ""
             }
            },
            "type": "scattercarpet"
           }
          ],
          "scattergeo": [
           {
            "marker": {
             "colorbar": {
              "outlinewidth": 0,
              "ticks": ""
             }
            },
            "type": "scattergeo"
           }
          ],
          "scattergl": [
           {
            "marker": {
             "colorbar": {
              "outlinewidth": 0,
              "ticks": ""
             }
            },
            "type": "scattergl"
           }
          ],
          "scattermap": [
           {
            "marker": {
             "colorbar": {
              "outlinewidth": 0,
              "ticks": ""
             }
            },
            "type": "scattermap"
           }
          ],
          "scattermapbox": [
           {
            "marker": {
             "colorbar": {
              "outlinewidth": 0,
              "ticks": ""
             }
            },
            "type": "scattermapbox"
           }
          ],
          "scatterpolar": [
           {
            "marker": {
             "colorbar": {
              "outlinewidth": 0,
              "ticks": ""
             }
            },
            "type": "scatterpolar"
           }
          ],
          "scatterpolargl": [
           {
            "marker": {
             "colorbar": {
              "outlinewidth": 0,
              "ticks": ""
             }
            },
            "type": "scatterpolargl"
           }
          ],
          "scatterternary": [
           {
            "marker": {
             "colorbar": {
              "outlinewidth": 0,
              "ticks": ""
             }
            },
            "type": "scatterternary"
           }
          ],
          "surface": [
           {
            "colorbar": {
             "outlinewidth": 0,
             "ticks": ""
            },
            "colorscale": [
             [
              0,
              "#0d0887"
             ],
             [
              0.1111111111111111,
              "#46039f"
             ],
             [
              0.2222222222222222,
              "#7201a8"
             ],
             [
              0.3333333333333333,
              "#9c179e"
             ],
             [
              0.4444444444444444,
              "#bd3786"
             ],
             [
              0.5555555555555556,
              "#d8576b"
             ],
             [
              0.6666666666666666,
              "#ed7953"
             ],
             [
              0.7777777777777778,
              "#fb9f3a"
             ],
             [
              0.8888888888888888,
              "#fdca26"
             ],
             [
              1,
              "#f0f921"
             ]
            ],
            "type": "surface"
           }
          ],
          "table": [
           {
            "cells": {
             "fill": {
              "color": "#EBF0F8"
             },
             "line": {
              "color": "white"
             }
            },
            "header": {
             "fill": {
              "color": "#C8D4E3"
             },
             "line": {
              "color": "white"
             }
            },
            "type": "table"
           }
          ]
         },
         "layout": {
          "annotationdefaults": {
           "arrowcolor": "#2a3f5f",
           "arrowhead": 0,
           "arrowwidth": 1
          },
          "autotypenumbers": "strict",
          "coloraxis": {
           "colorbar": {
            "outlinewidth": 0,
            "ticks": ""
           }
          },
          "colorscale": {
           "diverging": [
            [
             0,
             "#8e0152"
            ],
            [
             0.1,
             "#c51b7d"
            ],
            [
             0.2,
             "#de77ae"
            ],
            [
             0.3,
             "#f1b6da"
            ],
            [
             0.4,
             "#fde0ef"
            ],
            [
             0.5,
             "#f7f7f7"
            ],
            [
             0.6,
             "#e6f5d0"
            ],
            [
             0.7,
             "#b8e186"
            ],
            [
             0.8,
             "#7fbc41"
            ],
            [
             0.9,
             "#4d9221"
            ],
            [
             1,
             "#276419"
            ]
           ],
           "sequential": [
            [
             0,
             "#0d0887"
            ],
            [
             0.1111111111111111,
             "#46039f"
            ],
            [
             0.2222222222222222,
             "#7201a8"
            ],
            [
             0.3333333333333333,
             "#9c179e"
            ],
            [
             0.4444444444444444,
             "#bd3786"
            ],
            [
             0.5555555555555556,
             "#d8576b"
            ],
            [
             0.6666666666666666,
             "#ed7953"
            ],
            [
             0.7777777777777778,
             "#fb9f3a"
            ],
            [
             0.8888888888888888,
             "#fdca26"
            ],
            [
             1,
             "#f0f921"
            ]
           ],
           "sequentialminus": [
            [
             0,
             "#0d0887"
            ],
            [
             0.1111111111111111,
             "#46039f"
            ],
            [
             0.2222222222222222,
             "#7201a8"
            ],
            [
             0.3333333333333333,
             "#9c179e"
            ],
            [
             0.4444444444444444,
             "#bd3786"
            ],
            [
             0.5555555555555556,
             "#d8576b"
            ],
            [
             0.6666666666666666,
             "#ed7953"
            ],
            [
             0.7777777777777778,
             "#fb9f3a"
            ],
            [
             0.8888888888888888,
             "#fdca26"
            ],
            [
             1,
             "#f0f921"
            ]
           ]
          },
          "colorway": [
           "#636efa",
           "#EF553B",
           "#00cc96",
           "#ab63fa",
           "#FFA15A",
           "#19d3f3",
           "#FF6692",
           "#B6E880",
           "#FF97FF",
           "#FECB52"
          ],
          "font": {
           "color": "#2a3f5f"
          },
          "geo": {
           "bgcolor": "white",
           "lakecolor": "white",
           "landcolor": "#E5ECF6",
           "showlakes": true,
           "showland": true,
           "subunitcolor": "white"
          },
          "hoverlabel": {
           "align": "left"
          },
          "hovermode": "closest",
          "mapbox": {
           "style": "light"
          },
          "paper_bgcolor": "white",
          "plot_bgcolor": "#E5ECF6",
          "polar": {
           "angularaxis": {
            "gridcolor": "white",
            "linecolor": "white",
            "ticks": ""
           },
           "bgcolor": "#E5ECF6",
           "radialaxis": {
            "gridcolor": "white",
            "linecolor": "white",
            "ticks": ""
           }
          },
          "scene": {
           "xaxis": {
            "backgroundcolor": "#E5ECF6",
            "gridcolor": "white",
            "gridwidth": 2,
            "linecolor": "white",
            "showbackground": true,
            "ticks": "",
            "zerolinecolor": "white"
           },
           "yaxis": {
            "backgroundcolor": "#E5ECF6",
            "gridcolor": "white",
            "gridwidth": 2,
            "linecolor": "white",
            "showbackground": true,
            "ticks": "",
            "zerolinecolor": "white"
           },
           "zaxis": {
            "backgroundcolor": "#E5ECF6",
            "gridcolor": "white",
            "gridwidth": 2,
            "linecolor": "white",
            "showbackground": true,
            "ticks": "",
            "zerolinecolor": "white"
           }
          },
          "shapedefaults": {
           "line": {
            "color": "#2a3f5f"
           }
          },
          "ternary": {
           "aaxis": {
            "gridcolor": "white",
            "linecolor": "white",
            "ticks": ""
           },
           "baxis": {
            "gridcolor": "white",
            "linecolor": "white",
            "ticks": ""
           },
           "bgcolor": "#E5ECF6",
           "caxis": {
            "gridcolor": "white",
            "linecolor": "white",
            "ticks": ""
           }
          },
          "title": {
           "x": 0.05
          },
          "xaxis": {
           "automargin": true,
           "gridcolor": "white",
           "linecolor": "white",
           "ticks": "",
           "title": {
            "standoff": 15
           },
           "zerolinecolor": "white",
           "zerolinewidth": 2
          },
          "yaxis": {
           "automargin": true,
           "gridcolor": "white",
           "linecolor": "white",
           "ticks": "",
           "title": {
            "standoff": 15
           },
           "zerolinecolor": "white",
           "zerolinewidth": 2
          }
         }
        },
        "title": {
         "text": "Breakdown of Filter: (ApplicationType in { 'New credit' })",
         "x": 0.5
        },
        "width": 800,
        "xaxis": {
         "showgrid": false,
         "showticklabels": false,
         "zeroline": false
        },
        "yaxis": {
         "showgrid": false,
         "showticklabels": false,
         "zeroline": false
        }
       }
      }
     },
     "metadata": {},
     "output_type": "display_data"
    }
   ],
   "source": [
    "# Example 4\n",
    "pie('rs_IsNewCredit', log_view, metric='avg_case_duration_seconds', details=False)"
   ]
  },
  {
   "cell_type": "code",
   "execution_count": null,
   "id": "ce60470e",
   "metadata": {},
   "outputs": [
    {
     "data": {
      "application/vnd.plotly.v1+json": {
       "config": {
        "plotlyServerURL": "https://plot.ly"
       },
       "data": [
        {
         "customdata": [
          [
           "(CreditScore >= 600) ✅ →<br>(RequestedAmount >= 10000) ✅ →<br>(RequestedAmount < 15000) ✅"
          ],
          [
           "(CreditScore >= 600) ✅ →<br>(RequestedAmount >= 10000) ❌ →<br>(RequestedAmount < 15000) ✅"
          ],
          [
           "(CreditScore >= 600) ❌ →<br>(RequestedAmount >= 10000) ✅ →<br>(RequestedAmount < 15000) ✅"
          ],
          [
           "(CreditScore >= 600) ❌ →<br>(RequestedAmount >= 10000) ❌ →<br>(RequestedAmount < 15000) ✅"
          ]
         ],
         "hovertemplate": "<b>%{customdata[0]}</b><extra></extra>",
         "labels": [
          "🟡 2,529 cases (15%)",
          "5,154 cases (31%)",
          "2,509 cases (15%)",
          "6,251 cases (38%)"
         ],
         "marker": {
          "colors": [
           "rgb(103, 0, 13)",
           "rgb(136, 8, 17)",
           "rgb(255, 245, 240)",
           "rgb(255, 239, 232)"
          ]
         },
         "textinfo": "label",
         "type": "pie",
         "values": {
          "bdata": "4QkiFM0Jaxg=",
          "dtype": "i2"
         }
        },
        {
         "hoverinfo": "none",
         "marker": {
          "cmax": 50.83156933048335,
          "cmin": 34.985788901556326,
          "color": [
           34.985788901556326
          ],
          "colorbar": {
           "len": 0.8,
           "thickness": 15,
           "title": {
            "text": "Avg Events/Case"
           }
          },
          "colorscale": [
           [
            0,
            "rgb(255,245,240)"
           ],
           [
            0.125,
            "rgb(254,224,210)"
           ],
           [
            0.25,
            "rgb(252,187,161)"
           ],
           [
            0.375,
            "rgb(252,146,114)"
           ],
           [
            0.5,
            "rgb(251,106,74)"
           ],
           [
            0.625,
            "rgb(239,59,44)"
           ],
           [
            0.75,
            "rgb(203,24,29)"
           ],
           [
            0.875,
            "rgb(165,15,21)"
           ],
           [
            1,
            "rgb(103,0,13)"
           ]
          ],
          "showscale": true
         },
         "mode": "markers",
         "showlegend": false,
         "type": "scatter",
         "x": [
          null
         ],
         "y": [
          null
         ]
        }
       ],
       "layout": {
        "height": 700,
        "paper_bgcolor": "white",
        "plot_bgcolor": "white",
        "showlegend": false,
        "template": {
         "data": {
          "bar": [
           {
            "error_x": {
             "color": "#2a3f5f"
            },
            "error_y": {
             "color": "#2a3f5f"
            },
            "marker": {
             "line": {
              "color": "#E5ECF6",
              "width": 0.5
             },
             "pattern": {
              "fillmode": "overlay",
              "size": 10,
              "solidity": 0.2
             }
            },
            "type": "bar"
           }
          ],
          "barpolar": [
           {
            "marker": {
             "line": {
              "color": "#E5ECF6",
              "width": 0.5
             },
             "pattern": {
              "fillmode": "overlay",
              "size": 10,
              "solidity": 0.2
             }
            },
            "type": "barpolar"
           }
          ],
          "carpet": [
           {
            "aaxis": {
             "endlinecolor": "#2a3f5f",
             "gridcolor": "white",
             "linecolor": "white",
             "minorgridcolor": "white",
             "startlinecolor": "#2a3f5f"
            },
            "baxis": {
             "endlinecolor": "#2a3f5f",
             "gridcolor": "white",
             "linecolor": "white",
             "minorgridcolor": "white",
             "startlinecolor": "#2a3f5f"
            },
            "type": "carpet"
           }
          ],
          "choropleth": [
           {
            "colorbar": {
             "outlinewidth": 0,
             "ticks": ""
            },
            "type": "choropleth"
           }
          ],
          "contour": [
           {
            "colorbar": {
             "outlinewidth": 0,
             "ticks": ""
            },
            "colorscale": [
             [
              0,
              "#0d0887"
             ],
             [
              0.1111111111111111,
              "#46039f"
             ],
             [
              0.2222222222222222,
              "#7201a8"
             ],
             [
              0.3333333333333333,
              "#9c179e"
             ],
             [
              0.4444444444444444,
              "#bd3786"
             ],
             [
              0.5555555555555556,
              "#d8576b"
             ],
             [
              0.6666666666666666,
              "#ed7953"
             ],
             [
              0.7777777777777778,
              "#fb9f3a"
             ],
             [
              0.8888888888888888,
              "#fdca26"
             ],
             [
              1,
              "#f0f921"
             ]
            ],
            "type": "contour"
           }
          ],
          "contourcarpet": [
           {
            "colorbar": {
             "outlinewidth": 0,
             "ticks": ""
            },
            "type": "contourcarpet"
           }
          ],
          "heatmap": [
           {
            "colorbar": {
             "outlinewidth": 0,
             "ticks": ""
            },
            "colorscale": [
             [
              0,
              "#0d0887"
             ],
             [
              0.1111111111111111,
              "#46039f"
             ],
             [
              0.2222222222222222,
              "#7201a8"
             ],
             [
              0.3333333333333333,
              "#9c179e"
             ],
             [
              0.4444444444444444,
              "#bd3786"
             ],
             [
              0.5555555555555556,
              "#d8576b"
             ],
             [
              0.6666666666666666,
              "#ed7953"
             ],
             [
              0.7777777777777778,
              "#fb9f3a"
             ],
             [
              0.8888888888888888,
              "#fdca26"
             ],
             [
              1,
              "#f0f921"
             ]
            ],
            "type": "heatmap"
           }
          ],
          "histogram": [
           {
            "marker": {
             "pattern": {
              "fillmode": "overlay",
              "size": 10,
              "solidity": 0.2
             }
            },
            "type": "histogram"
           }
          ],
          "histogram2d": [
           {
            "colorbar": {
             "outlinewidth": 0,
             "ticks": ""
            },
            "colorscale": [
             [
              0,
              "#0d0887"
             ],
             [
              0.1111111111111111,
              "#46039f"
             ],
             [
              0.2222222222222222,
              "#7201a8"
             ],
             [
              0.3333333333333333,
              "#9c179e"
             ],
             [
              0.4444444444444444,
              "#bd3786"
             ],
             [
              0.5555555555555556,
              "#d8576b"
             ],
             [
              0.6666666666666666,
              "#ed7953"
             ],
             [
              0.7777777777777778,
              "#fb9f3a"
             ],
             [
              0.8888888888888888,
              "#fdca26"
             ],
             [
              1,
              "#f0f921"
             ]
            ],
            "type": "histogram2d"
           }
          ],
          "histogram2dcontour": [
           {
            "colorbar": {
             "outlinewidth": 0,
             "ticks": ""
            },
            "colorscale": [
             [
              0,
              "#0d0887"
             ],
             [
              0.1111111111111111,
              "#46039f"
             ],
             [
              0.2222222222222222,
              "#7201a8"
             ],
             [
              0.3333333333333333,
              "#9c179e"
             ],
             [
              0.4444444444444444,
              "#bd3786"
             ],
             [
              0.5555555555555556,
              "#d8576b"
             ],
             [
              0.6666666666666666,
              "#ed7953"
             ],
             [
              0.7777777777777778,
              "#fb9f3a"
             ],
             [
              0.8888888888888888,
              "#fdca26"
             ],
             [
              1,
              "#f0f921"
             ]
            ],
            "type": "histogram2dcontour"
           }
          ],
          "mesh3d": [
           {
            "colorbar": {
             "outlinewidth": 0,
             "ticks": ""
            },
            "type": "mesh3d"
           }
          ],
          "parcoords": [
           {
            "line": {
             "colorbar": {
              "outlinewidth": 0,
              "ticks": ""
             }
            },
            "type": "parcoords"
           }
          ],
          "pie": [
           {
            "automargin": true,
            "type": "pie"
           }
          ],
          "scatter": [
           {
            "fillpattern": {
             "fillmode": "overlay",
             "size": 10,
             "solidity": 0.2
            },
            "type": "scatter"
           }
          ],
          "scatter3d": [
           {
            "line": {
             "colorbar": {
              "outlinewidth": 0,
              "ticks": ""
             }
            },
            "marker": {
             "colorbar": {
              "outlinewidth": 0,
              "ticks": ""
             }
            },
            "type": "scatter3d"
           }
          ],
          "scattercarpet": [
           {
            "marker": {
             "colorbar": {
              "outlinewidth": 0,
              "ticks": ""
             }
            },
            "type": "scattercarpet"
           }
          ],
          "scattergeo": [
           {
            "marker": {
             "colorbar": {
              "outlinewidth": 0,
              "ticks": ""
             }
            },
            "type": "scattergeo"
           }
          ],
          "scattergl": [
           {
            "marker": {
             "colorbar": {
              "outlinewidth": 0,
              "ticks": ""
             }
            },
            "type": "scattergl"
           }
          ],
          "scattermap": [
           {
            "marker": {
             "colorbar": {
              "outlinewidth": 0,
              "ticks": ""
             }
            },
            "type": "scattermap"
           }
          ],
          "scattermapbox": [
           {
            "marker": {
             "colorbar": {
              "outlinewidth": 0,
              "ticks": ""
             }
            },
            "type": "scattermapbox"
           }
          ],
          "scatterpolar": [
           {
            "marker": {
             "colorbar": {
              "outlinewidth": 0,
              "ticks": ""
             }
            },
            "type": "scatterpolar"
           }
          ],
          "scatterpolargl": [
           {
            "marker": {
             "colorbar": {
              "outlinewidth": 0,
              "ticks": ""
             }
            },
            "type": "scatterpolargl"
           }
          ],
          "scatterternary": [
           {
            "marker": {
             "colorbar": {
              "outlinewidth": 0,
              "ticks": ""
             }
            },
            "type": "scatterternary"
           }
          ],
          "surface": [
           {
            "colorbar": {
             "outlinewidth": 0,
             "ticks": ""
            },
            "colorscale": [
             [
              0,
              "#0d0887"
             ],
             [
              0.1111111111111111,
              "#46039f"
             ],
             [
              0.2222222222222222,
              "#7201a8"
             ],
             [
              0.3333333333333333,
              "#9c179e"
             ],
             [
              0.4444444444444444,
              "#bd3786"
             ],
             [
              0.5555555555555556,
              "#d8576b"
             ],
             [
              0.6666666666666666,
              "#ed7953"
             ],
             [
              0.7777777777777778,
              "#fb9f3a"
             ],
             [
              0.8888888888888888,
              "#fdca26"
             ],
             [
              1,
              "#f0f921"
             ]
            ],
            "type": "surface"
           }
          ],
          "table": [
           {
            "cells": {
             "fill": {
              "color": "#EBF0F8"
             },
             "line": {
              "color": "white"
             }
            },
            "header": {
             "fill": {
              "color": "#C8D4E3"
             },
             "line": {
              "color": "white"
             }
            },
            "type": "table"
           }
          ]
         },
         "layout": {
          "annotationdefaults": {
           "arrowcolor": "#2a3f5f",
           "arrowhead": 0,
           "arrowwidth": 1
          },
          "autotypenumbers": "strict",
          "coloraxis": {
           "colorbar": {
            "outlinewidth": 0,
            "ticks": ""
           }
          },
          "colorscale": {
           "diverging": [
            [
             0,
             "#8e0152"
            ],
            [
             0.1,
             "#c51b7d"
            ],
            [
             0.2,
             "#de77ae"
            ],
            [
             0.3,
             "#f1b6da"
            ],
            [
             0.4,
             "#fde0ef"
            ],
            [
             0.5,
             "#f7f7f7"
            ],
            [
             0.6,
             "#e6f5d0"
            ],
            [
             0.7,
             "#b8e186"
            ],
            [
             0.8,
             "#7fbc41"
            ],
            [
             0.9,
             "#4d9221"
            ],
            [
             1,
             "#276419"
            ]
           ],
           "sequential": [
            [
             0,
             "#0d0887"
            ],
            [
             0.1111111111111111,
             "#46039f"
            ],
            [
             0.2222222222222222,
             "#7201a8"
            ],
            [
             0.3333333333333333,
             "#9c179e"
            ],
            [
             0.4444444444444444,
             "#bd3786"
            ],
            [
             0.5555555555555556,
             "#d8576b"
            ],
            [
             0.6666666666666666,
             "#ed7953"
            ],
            [
             0.7777777777777778,
             "#fb9f3a"
            ],
            [
             0.8888888888888888,
             "#fdca26"
            ],
            [
             1,
             "#f0f921"
            ]
           ],
           "sequentialminus": [
            [
             0,
             "#0d0887"
            ],
            [
             0.1111111111111111,
             "#46039f"
            ],
            [
             0.2222222222222222,
             "#7201a8"
            ],
            [
             0.3333333333333333,
             "#9c179e"
            ],
            [
             0.4444444444444444,
             "#bd3786"
            ],
            [
             0.5555555555555556,
             "#d8576b"
            ],
            [
             0.6666666666666666,
             "#ed7953"
            ],
            [
             0.7777777777777778,
             "#fb9f3a"
            ],
            [
             0.8888888888888888,
             "#fdca26"
            ],
            [
             1,
             "#f0f921"
            ]
           ]
          },
          "colorway": [
           "#636efa",
           "#EF553B",
           "#00cc96",
           "#ab63fa",
           "#FFA15A",
           "#19d3f3",
           "#FF6692",
           "#B6E880",
           "#FF97FF",
           "#FECB52"
          ],
          "font": {
           "color": "#2a3f5f"
          },
          "geo": {
           "bgcolor": "white",
           "lakecolor": "white",
           "landcolor": "#E5ECF6",
           "showlakes": true,
           "showland": true,
           "subunitcolor": "white"
          },
          "hoverlabel": {
           "align": "left"
          },
          "hovermode": "closest",
          "mapbox": {
           "style": "light"
          },
          "paper_bgcolor": "white",
          "plot_bgcolor": "#E5ECF6",
          "polar": {
           "angularaxis": {
            "gridcolor": "white",
            "linecolor": "white",
            "ticks": ""
           },
           "bgcolor": "#E5ECF6",
           "radialaxis": {
            "gridcolor": "white",
            "linecolor": "white",
            "ticks": ""
           }
          },
          "scene": {
           "xaxis": {
            "backgroundcolor": "#E5ECF6",
            "gridcolor": "white",
            "gridwidth": 2,
            "linecolor": "white",
            "showbackground": true,
            "ticks": "",
            "zerolinecolor": "white"
           },
           "yaxis": {
            "backgroundcolor": "#E5ECF6",
            "gridcolor": "white",
            "gridwidth": 2,
            "linecolor": "white",
            "showbackground": true,
            "ticks": "",
            "zerolinecolor": "white"
           },
           "zaxis": {
            "backgroundcolor": "#E5ECF6",
            "gridcolor": "white",
            "gridwidth": 2,
            "linecolor": "white",
            "showbackground": true,
            "ticks": "",
            "zerolinecolor": "white"
           }
          },
          "shapedefaults": {
           "line": {
            "color": "#2a3f5f"
           }
          },
          "ternary": {
           "aaxis": {
            "gridcolor": "white",
            "linecolor": "white",
            "ticks": ""
           },
           "baxis": {
            "gridcolor": "white",
            "linecolor": "white",
            "ticks": ""
           },
           "bgcolor": "#E5ECF6",
           "caxis": {
            "gridcolor": "white",
            "linecolor": "white",
            "ticks": ""
           }
          },
          "title": {
           "x": 0.05
          },
          "xaxis": {
           "automargin": true,
           "gridcolor": "white",
           "linecolor": "white",
           "ticks": "",
           "title": {
            "standoff": 15
           },
           "zerolinecolor": "white",
           "zerolinewidth": 2
          },
          "yaxis": {
           "automargin": true,
           "gridcolor": "white",
           "linecolor": "white",
           "ticks": "",
           "title": {
            "standoff": 15
           },
           "zerolinecolor": "white",
           "zerolinewidth": 2
          }
         }
        },
        "title": {
         "text": "Breakdown of Filter: (RequestedAmount < 15000)",
         "x": 0.5
        },
        "width": 800,
        "xaxis": {
         "showgrid": false,
         "showticklabels": false,
         "zeroline": false
        },
        "yaxis": {
         "showgrid": false,
         "showticklabels": false,
         "zeroline": false
        }
       }
      }
     },
     "metadata": {},
     "output_type": "display_data"
    }
   ],
   "source": [
    "# Example 5\n",
    "pie('rs_SmallAmount', log_view, metric='avg_events_per_case', details=False)"
   ]
  },
  {
   "cell_type": "code",
   "execution_count": null,
   "id": "2ef2866d",
   "metadata": {},
   "outputs": [
    {
     "data": {
      "application/vnd.plotly.v1+json": {
       "config": {
        "plotlyServerURL": "https://plot.ly"
       },
       "data": [
        {
         "customdata": [
          [
           "(CreditScore >= 600) ✅ →<br>(RequestedAmount >= 10000) ✅"
          ],
          [
           "(CreditScore >= 600) ❌ →<br>(RequestedAmount >= 10000) ✅"
          ]
         ],
         "hovertemplate": "<b>%{customdata[0]}</b><extra></extra>",
         "labels": [
          "🟡 10,084 cases (50%)",
          "10,020 cases (50%)"
         ],
         "marker": {
          "colors": [
           "rgb(247, 252, 245)",
           "rgb(0, 68, 27)"
          ]
         },
         "textinfo": "label",
         "type": "pie",
         "values": {
          "bdata": "ZCckJw==",
          "dtype": "i2"
         }
        },
        {
         "hoverinfo": "none",
         "marker": {
          "cmax": 72714.40005889244,
          "cmin": 36614.88610694415,
          "color": [
           36614.88610694415
          ],
          "colorbar": {
           "len": 0.8,
           "thickness": 15,
           "title": {
            "text": "Avg Time Between Events (s)"
           }
          },
          "colorscale": [
           [
            0,
            "rgb(247,252,245)"
           ],
           [
            0.125,
            "rgb(229,245,224)"
           ],
           [
            0.25,
            "rgb(199,233,192)"
           ],
           [
            0.375,
            "rgb(161,217,155)"
           ],
           [
            0.5,
            "rgb(116,196,118)"
           ],
           [
            0.625,
            "rgb(65,171,93)"
           ],
           [
            0.75,
            "rgb(35,139,69)"
           ],
           [
            0.875,
            "rgb(0,109,44)"
           ],
           [
            1,
            "rgb(0,68,27)"
           ]
          ],
          "showscale": true
         },
         "mode": "markers",
         "showlegend": false,
         "type": "scatter",
         "x": [
          null
         ],
         "y": [
          null
         ]
        }
       ],
       "layout": {
        "height": 700,
        "paper_bgcolor": "white",
        "plot_bgcolor": "white",
        "showlegend": false,
        "template": {
         "data": {
          "bar": [
           {
            "error_x": {
             "color": "#2a3f5f"
            },
            "error_y": {
             "color": "#2a3f5f"
            },
            "marker": {
             "line": {
              "color": "#E5ECF6",
              "width": 0.5
             },
             "pattern": {
              "fillmode": "overlay",
              "size": 10,
              "solidity": 0.2
             }
            },
            "type": "bar"
           }
          ],
          "barpolar": [
           {
            "marker": {
             "line": {
              "color": "#E5ECF6",
              "width": 0.5
             },
             "pattern": {
              "fillmode": "overlay",
              "size": 10,
              "solidity": 0.2
             }
            },
            "type": "barpolar"
           }
          ],
          "carpet": [
           {
            "aaxis": {
             "endlinecolor": "#2a3f5f",
             "gridcolor": "white",
             "linecolor": "white",
             "minorgridcolor": "white",
             "startlinecolor": "#2a3f5f"
            },
            "baxis": {
             "endlinecolor": "#2a3f5f",
             "gridcolor": "white",
             "linecolor": "white",
             "minorgridcolor": "white",
             "startlinecolor": "#2a3f5f"
            },
            "type": "carpet"
           }
          ],
          "choropleth": [
           {
            "colorbar": {
             "outlinewidth": 0,
             "ticks": ""
            },
            "type": "choropleth"
           }
          ],
          "contour": [
           {
            "colorbar": {
             "outlinewidth": 0,
             "ticks": ""
            },
            "colorscale": [
             [
              0,
              "#0d0887"
             ],
             [
              0.1111111111111111,
              "#46039f"
             ],
             [
              0.2222222222222222,
              "#7201a8"
             ],
             [
              0.3333333333333333,
              "#9c179e"
             ],
             [
              0.4444444444444444,
              "#bd3786"
             ],
             [
              0.5555555555555556,
              "#d8576b"
             ],
             [
              0.6666666666666666,
              "#ed7953"
             ],
             [
              0.7777777777777778,
              "#fb9f3a"
             ],
             [
              0.8888888888888888,
              "#fdca26"
             ],
             [
              1,
              "#f0f921"
             ]
            ],
            "type": "contour"
           }
          ],
          "contourcarpet": [
           {
            "colorbar": {
             "outlinewidth": 0,
             "ticks": ""
            },
            "type": "contourcarpet"
           }
          ],
          "heatmap": [
           {
            "colorbar": {
             "outlinewidth": 0,
             "ticks": ""
            },
            "colorscale": [
             [
              0,
              "#0d0887"
             ],
             [
              0.1111111111111111,
              "#46039f"
             ],
             [
              0.2222222222222222,
              "#7201a8"
             ],
             [
              0.3333333333333333,
              "#9c179e"
             ],
             [
              0.4444444444444444,
              "#bd3786"
             ],
             [
              0.5555555555555556,
              "#d8576b"
             ],
             [
              0.6666666666666666,
              "#ed7953"
             ],
             [
              0.7777777777777778,
              "#fb9f3a"
             ],
             [
              0.8888888888888888,
              "#fdca26"
             ],
             [
              1,
              "#f0f921"
             ]
            ],
            "type": "heatmap"
           }
          ],
          "histogram": [
           {
            "marker": {
             "pattern": {
              "fillmode": "overlay",
              "size": 10,
              "solidity": 0.2
             }
            },
            "type": "histogram"
           }
          ],
          "histogram2d": [
           {
            "colorbar": {
             "outlinewidth": 0,
             "ticks": ""
            },
            "colorscale": [
             [
              0,
              "#0d0887"
             ],
             [
              0.1111111111111111,
              "#46039f"
             ],
             [
              0.2222222222222222,
              "#7201a8"
             ],
             [
              0.3333333333333333,
              "#9c179e"
             ],
             [
              0.4444444444444444,
              "#bd3786"
             ],
             [
              0.5555555555555556,
              "#d8576b"
             ],
             [
              0.6666666666666666,
              "#ed7953"
             ],
             [
              0.7777777777777778,
              "#fb9f3a"
             ],
             [
              0.8888888888888888,
              "#fdca26"
             ],
             [
              1,
              "#f0f921"
             ]
            ],
            "type": "histogram2d"
           }
          ],
          "histogram2dcontour": [
           {
            "colorbar": {
             "outlinewidth": 0,
             "ticks": ""
            },
            "colorscale": [
             [
              0,
              "#0d0887"
             ],
             [
              0.1111111111111111,
              "#46039f"
             ],
             [
              0.2222222222222222,
              "#7201a8"
             ],
             [
              0.3333333333333333,
              "#9c179e"
             ],
             [
              0.4444444444444444,
              "#bd3786"
             ],
             [
              0.5555555555555556,
              "#d8576b"
             ],
             [
              0.6666666666666666,
              "#ed7953"
             ],
             [
              0.7777777777777778,
              "#fb9f3a"
             ],
             [
              0.8888888888888888,
              "#fdca26"
             ],
             [
              1,
              "#f0f921"
             ]
            ],
            "type": "histogram2dcontour"
           }
          ],
          "mesh3d": [
           {
            "colorbar": {
             "outlinewidth": 0,
             "ticks": ""
            },
            "type": "mesh3d"
           }
          ],
          "parcoords": [
           {
            "line": {
             "colorbar": {
              "outlinewidth": 0,
              "ticks": ""
             }
            },
            "type": "parcoords"
           }
          ],
          "pie": [
           {
            "automargin": true,
            "type": "pie"
           }
          ],
          "scatter": [
           {
            "fillpattern": {
             "fillmode": "overlay",
             "size": 10,
             "solidity": 0.2
            },
            "type": "scatter"
           }
          ],
          "scatter3d": [
           {
            "line": {
             "colorbar": {
              "outlinewidth": 0,
              "ticks": ""
             }
            },
            "marker": {
             "colorbar": {
              "outlinewidth": 0,
              "ticks": ""
             }
            },
            "type": "scatter3d"
           }
          ],
          "scattercarpet": [
           {
            "marker": {
             "colorbar": {
              "outlinewidth": 0,
              "ticks": ""
             }
            },
            "type": "scattercarpet"
           }
          ],
          "scattergeo": [
           {
            "marker": {
             "colorbar": {
              "outlinewidth": 0,
              "ticks": ""
             }
            },
            "type": "scattergeo"
           }
          ],
          "scattergl": [
           {
            "marker": {
             "colorbar": {
              "outlinewidth": 0,
              "ticks": ""
             }
            },
            "type": "scattergl"
           }
          ],
          "scattermap": [
           {
            "marker": {
             "colorbar": {
              "outlinewidth": 0,
              "ticks": ""
             }
            },
            "type": "scattermap"
           }
          ],
          "scattermapbox": [
           {
            "marker": {
             "colorbar": {
              "outlinewidth": 0,
              "ticks": ""
             }
            },
            "type": "scattermapbox"
           }
          ],
          "scatterpolar": [
           {
            "marker": {
             "colorbar": {
              "outlinewidth": 0,
              "ticks": ""
             }
            },
            "type": "scatterpolar"
           }
          ],
          "scatterpolargl": [
           {
            "marker": {
             "colorbar": {
              "outlinewidth": 0,
              "ticks": ""
             }
            },
            "type": "scatterpolargl"
           }
          ],
          "scatterternary": [
           {
            "marker": {
             "colorbar": {
              "outlinewidth": 0,
              "ticks": ""
             }
            },
            "type": "scatterternary"
           }
          ],
          "surface": [
           {
            "colorbar": {
             "outlinewidth": 0,
             "ticks": ""
            },
            "colorscale": [
             [
              0,
              "#0d0887"
             ],
             [
              0.1111111111111111,
              "#46039f"
             ],
             [
              0.2222222222222222,
              "#7201a8"
             ],
             [
              0.3333333333333333,
              "#9c179e"
             ],
             [
              0.4444444444444444,
              "#bd3786"
             ],
             [
              0.5555555555555556,
              "#d8576b"
             ],
             [
              0.6666666666666666,
              "#ed7953"
             ],
             [
              0.7777777777777778,
              "#fb9f3a"
             ],
             [
              0.8888888888888888,
              "#fdca26"
             ],
             [
              1,
              "#f0f921"
             ]
            ],
            "type": "surface"
           }
          ],
          "table": [
           {
            "cells": {
             "fill": {
              "color": "#EBF0F8"
             },
             "line": {
              "color": "white"
             }
            },
            "header": {
             "fill": {
              "color": "#C8D4E3"
             },
             "line": {
              "color": "white"
             }
            },
            "type": "table"
           }
          ]
         },
         "layout": {
          "annotationdefaults": {
           "arrowcolor": "#2a3f5f",
           "arrowhead": 0,
           "arrowwidth": 1
          },
          "autotypenumbers": "strict",
          "coloraxis": {
           "colorbar": {
            "outlinewidth": 0,
            "ticks": ""
           }
          },
          "colorscale": {
           "diverging": [
            [
             0,
             "#8e0152"
            ],
            [
             0.1,
             "#c51b7d"
            ],
            [
             0.2,
             "#de77ae"
            ],
            [
             0.3,
             "#f1b6da"
            ],
            [
             0.4,
             "#fde0ef"
            ],
            [
             0.5,
             "#f7f7f7"
            ],
            [
             0.6,
             "#e6f5d0"
            ],
            [
             0.7,
             "#b8e186"
            ],
            [
             0.8,
             "#7fbc41"
            ],
            [
             0.9,
             "#4d9221"
            ],
            [
             1,
             "#276419"
            ]
           ],
           "sequential": [
            [
             0,
             "#0d0887"
            ],
            [
             0.1111111111111111,
             "#46039f"
            ],
            [
             0.2222222222222222,
             "#7201a8"
            ],
            [
             0.3333333333333333,
             "#9c179e"
            ],
            [
             0.4444444444444444,
             "#bd3786"
            ],
            [
             0.5555555555555556,
             "#d8576b"
            ],
            [
             0.6666666666666666,
             "#ed7953"
            ],
            [
             0.7777777777777778,
             "#fb9f3a"
            ],
            [
             0.8888888888888888,
             "#fdca26"
            ],
            [
             1,
             "#f0f921"
            ]
           ],
           "sequentialminus": [
            [
             0,
             "#0d0887"
            ],
            [
             0.1111111111111111,
             "#46039f"
            ],
            [
             0.2222222222222222,
             "#7201a8"
            ],
            [
             0.3333333333333333,
             "#9c179e"
            ],
            [
             0.4444444444444444,
             "#bd3786"
            ],
            [
             0.5555555555555556,
             "#d8576b"
            ],
            [
             0.6666666666666666,
             "#ed7953"
            ],
            [
             0.7777777777777778,
             "#fb9f3a"
            ],
            [
             0.8888888888888888,
             "#fdca26"
            ],
            [
             1,
             "#f0f921"
            ]
           ]
          },
          "colorway": [
           "#636efa",
           "#EF553B",
           "#00cc96",
           "#ab63fa",
           "#FFA15A",
           "#19d3f3",
           "#FF6692",
           "#B6E880",
           "#FF97FF",
           "#FECB52"
          ],
          "font": {
           "color": "#2a3f5f"
          },
          "geo": {
           "bgcolor": "white",
           "lakecolor": "white",
           "landcolor": "#E5ECF6",
           "showlakes": true,
           "showland": true,
           "subunitcolor": "white"
          },
          "hoverlabel": {
           "align": "left"
          },
          "hovermode": "closest",
          "mapbox": {
           "style": "light"
          },
          "paper_bgcolor": "white",
          "plot_bgcolor": "#E5ECF6",
          "polar": {
           "angularaxis": {
            "gridcolor": "white",
            "linecolor": "white",
            "ticks": ""
           },
           "bgcolor": "#E5ECF6",
           "radialaxis": {
            "gridcolor": "white",
            "linecolor": "white",
            "ticks": ""
           }
          },
          "scene": {
           "xaxis": {
            "backgroundcolor": "#E5ECF6",
            "gridcolor": "white",
            "gridwidth": 2,
            "linecolor": "white",
            "showbackground": true,
            "ticks": "",
            "zerolinecolor": "white"
           },
           "yaxis": {
            "backgroundcolor": "#E5ECF6",
            "gridcolor": "white",
            "gridwidth": 2,
            "linecolor": "white",
            "showbackground": true,
            "ticks": "",
            "zerolinecolor": "white"
           },
           "zaxis": {
            "backgroundcolor": "#E5ECF6",
            "gridcolor": "white",
            "gridwidth": 2,
            "linecolor": "white",
            "showbackground": true,
            "ticks": "",
            "zerolinecolor": "white"
           }
          },
          "shapedefaults": {
           "line": {
            "color": "#2a3f5f"
           }
          },
          "ternary": {
           "aaxis": {
            "gridcolor": "white",
            "linecolor": "white",
            "ticks": ""
           },
           "baxis": {
            "gridcolor": "white",
            "linecolor": "white",
            "ticks": ""
           },
           "bgcolor": "#E5ECF6",
           "caxis": {
            "gridcolor": "white",
            "linecolor": "white",
            "ticks": ""
           }
          },
          "title": {
           "x": 0.05
          },
          "xaxis": {
           "automargin": true,
           "gridcolor": "white",
           "linecolor": "white",
           "ticks": "",
           "title": {
            "standoff": 15
           },
           "zerolinecolor": "white",
           "zerolinewidth": 2
          },
          "yaxis": {
           "automargin": true,
           "gridcolor": "white",
           "linecolor": "white",
           "ticks": "",
           "title": {
            "standoff": 15
           },
           "zerolinecolor": "white",
           "zerolinewidth": 2
          }
         }
        },
        "title": {
         "text": "Breakdown of Filter: (RequestedAmount >= 10000)",
         "x": 0.5
        },
        "width": 800,
        "xaxis": {
         "showgrid": false,
         "showticklabels": false,
         "zeroline": false
        },
        "yaxis": {
         "showgrid": false,
         "showticklabels": false,
         "zeroline": false
        }
       }
      }
     },
     "metadata": {},
     "output_type": "display_data"
    },
    {
     "name": "stdout",
     "output_type": "stream",
     "text": [
      "\n",
      "Filter Paths:\n",
      "\n",
      "- 🟡 10,084 cases (50%): (CreditScore >= 600) ✅ → (RequestedAmount >= 10000) ✅ | Avg Time Between Events (s): 10h 10m\n",
      "- 10,020 cases (50%): (CreditScore >= 600) ❌ → (RequestedAmount >= 10000) ✅ | Avg Time Between Events (s): 20h 11m\n"
     ]
    }
   ],
   "source": [
    "# Example 6: details=True\n",
    "pie('rs_LoanOverThreshold', log_view, metric='avg_time_between_events', details=True)"
   ]
  },
  {
   "cell_type": "markdown",
   "id": "e292b8df",
   "metadata": {},
   "source": [
    "### General Form of the `pie()` Function: ###\n",
    "\n",
    "```python\n",
    "pie(result_set_name, log_view, metric='metric_name', details=False)\n"
   ]
  },
  {
   "cell_type": "code",
   "execution_count": null,
   "id": "9b384f7c",
   "metadata": {},
   "outputs": [
    {
     "ename": "",
     "evalue": "",
     "output_type": "error",
     "traceback": [
      "\u001b[1;31mThe Kernel crashed while executing code in the current cell or a previous cell. \n",
      "\u001b[1;31mPlease review the code in the cell(s) to identify a possible cause of the failure. \n",
      "\u001b[1;31mClick <a href='https://aka.ms/vscodeJupyterKernelCrash'>here</a> for more info. \n",
      "\u001b[1;31mView Jupyter <a href='command:jupyter.viewOutput'>log</a> for further details."
     ]
    }
   ],
   "source": [
    "# Try calling the 'pie()' function on your own Query:\n"
   ]
  }
 ],
 "metadata": {
  "kernelspec": {
   "display_name": "Python 3",
   "language": "python",
   "name": "python3"
  },
  "language_info": {
   "codemirror_mode": {
    "name": "ipython",
    "version": 3
   },
   "file_extension": ".py",
   "mimetype": "text/x-python",
   "name": "python",
   "nbconvert_exporter": "python",
   "pygments_lexer": "ipython3",
   "version": "3.10.2"
  }
 },
 "nbformat": 4,
 "nbformat_minor": 5
}
